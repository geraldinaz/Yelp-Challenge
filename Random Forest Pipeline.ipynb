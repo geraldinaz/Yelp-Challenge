{
 "cells": [
  {
   "cell_type": "code",
   "execution_count": 1,
   "metadata": {},
   "outputs": [
    {
     "data": {
      "application/vnd.jupyter.widget-view+json": {
       "model_id": "b1273067c18c4525b7ebb1b620d27467",
       "version_major": 2,
       "version_minor": 0
      },
      "text/plain": [
       "VBox()"
      ]
     },
     "metadata": {},
     "output_type": "display_data"
    },
    {
     "name": "stdout",
     "output_type": "stream",
     "text": [
      "Starting Spark application\n"
     ]
    },
    {
     "data": {
      "text/html": [
       "<table>\n",
       "<tr><th>ID</th><th>YARN Application ID</th><th>Kind</th><th>State</th><th>Spark UI</th><th>Driver log</th><th>Current session?</th></tr><tr><td>0</td><td>application_1575675000085_0001</td><td>pyspark</td><td>idle</td><td><a target=\"_blank\" href=\"http://ip-172-31-16-29.us-east-2.compute.internal:20888/proxy/application_1575675000085_0001/\">Link</a></td><td><a target=\"_blank\" href=\"http://ip-172-31-17-217.us-east-2.compute.internal:8042/node/containerlogs/container_1575675000085_0001_01_000001/livy\">Link</a></td><td>✔</td></tr></table>"
      ],
      "text/plain": [
       "<IPython.core.display.HTML object>"
      ]
     },
     "metadata": {},
     "output_type": "display_data"
    },
    {
     "data": {
      "application/vnd.jupyter.widget-view+json": {
       "model_id": "",
       "version_major": 2,
       "version_minor": 0
      },
      "text/plain": [
       "FloatProgress(value=0.0, bar_style='info', description='Progress:', layout=Layout(height='25px', width='50%'),…"
      ]
     },
     "metadata": {},
     "output_type": "display_data"
    },
    {
     "name": "stdout",
     "output_type": "stream",
     "text": [
      "SparkSession available as 'spark'.\n"
     ]
    },
    {
     "data": {
      "application/vnd.jupyter.widget-view+json": {
       "model_id": "",
       "version_major": 2,
       "version_minor": 0
      },
      "text/plain": [
       "FloatProgress(value=0.0, bar_style='info', description='Progress:', layout=Layout(height='25px', width='50%'),…"
      ]
     },
     "metadata": {},
     "output_type": "display_data"
    },
    {
     "name": "stdout",
     "output_type": "stream",
     "text": [
      "<SparkContext master=yarn appName=livy-session-0>"
     ]
    }
   ],
   "source": [
    "sc"
   ]
  },
  {
   "cell_type": "code",
   "execution_count": 2,
   "metadata": {},
   "outputs": [
    {
     "data": {
      "application/vnd.jupyter.widget-view+json": {
       "model_id": "df130fe42fb24e9d977b6ee27aaa45f6",
       "version_major": 2,
       "version_minor": 0
      },
      "text/plain": [
       "VBox()"
      ]
     },
     "metadata": {},
     "output_type": "display_data"
    },
    {
     "data": {
      "application/vnd.jupyter.widget-view+json": {
       "model_id": "",
       "version_major": 2,
       "version_minor": 0
      },
      "text/plain": [
       "FloatProgress(value=0.0, bar_style='info', description='Progress:', layout=Layout(height='25px', width='50%'),…"
      ]
     },
     "metadata": {},
     "output_type": "display_data"
    }
   ],
   "source": [
    "# Read in business.json\n",
    "business = sc.textFile(\"s3a://dsfinal/business.json\")"
   ]
  },
  {
   "cell_type": "code",
   "execution_count": 3,
   "metadata": {},
   "outputs": [
    {
     "data": {
      "application/vnd.jupyter.widget-view+json": {
       "model_id": "3ba1d90781c742d7bf6fce1c6cf0d42a",
       "version_major": 2,
       "version_minor": 0
      },
      "text/plain": [
       "VBox()"
      ]
     },
     "metadata": {},
     "output_type": "display_data"
    },
    {
     "data": {
      "application/vnd.jupyter.widget-view+json": {
       "model_id": "",
       "version_major": 2,
       "version_minor": 0
      },
      "text/plain": [
       "FloatProgress(value=0.0, bar_style='info', description='Progress:', layout=Layout(height='25px', width='50%'),…"
      ]
     },
     "metadata": {},
     "output_type": "display_data"
    }
   ],
   "source": [
    "import json"
   ]
  },
  {
   "cell_type": "code",
   "execution_count": 4,
   "metadata": {},
   "outputs": [
    {
     "data": {
      "application/vnd.jupyter.widget-view+json": {
       "model_id": "d803f5cd6e184ac3a073622f8f06de3c",
       "version_major": 2,
       "version_minor": 0
      },
      "text/plain": [
       "VBox()"
      ]
     },
     "metadata": {},
     "output_type": "display_data"
    },
    {
     "data": {
      "application/vnd.jupyter.widget-view+json": {
       "model_id": "",
       "version_major": 2,
       "version_minor": 0
      },
      "text/plain": [
       "FloatProgress(value=0.0, bar_style='info', description='Progress:', layout=Layout(height='25px', width='50%'),…"
      ]
     },
     "metadata": {},
     "output_type": "display_data"
    }
   ],
   "source": [
    "# JSON to dataframe\n",
    "df_business = spark.read.json(business)"
   ]
  },
  {
   "cell_type": "code",
   "execution_count": 5,
   "metadata": {},
   "outputs": [
    {
     "data": {
      "application/vnd.jupyter.widget-view+json": {
       "model_id": "49e3518a657d4e84806e421fb3d8845e",
       "version_major": 2,
       "version_minor": 0
      },
      "text/plain": [
       "VBox()"
      ]
     },
     "metadata": {},
     "output_type": "display_data"
    },
    {
     "data": {
      "application/vnd.jupyter.widget-view+json": {
       "model_id": "",
       "version_major": 2,
       "version_minor": 0
      },
      "text/plain": [
       "FloatProgress(value=0.0, bar_style='info', description='Progress:', layout=Layout(height='25px', width='50%'),…"
      ]
     },
     "metadata": {},
     "output_type": "display_data"
    }
   ],
   "source": [
    "# Save all restaurants into a dataframe\n",
    "df_restaurant_only = df_business.filter(df_business.categories.contains('Restaurants'))"
   ]
  },
  {
   "cell_type": "code",
   "execution_count": 6,
   "metadata": {},
   "outputs": [
    {
     "data": {
      "application/vnd.jupyter.widget-view+json": {
       "model_id": "e332fa110516499e849fb0eca70811b8",
       "version_major": 2,
       "version_minor": 0
      },
      "text/plain": [
       "VBox()"
      ]
     },
     "metadata": {},
     "output_type": "display_data"
    },
    {
     "data": {
      "application/vnd.jupyter.widget-view+json": {
       "model_id": "",
       "version_major": 2,
       "version_minor": 0
      },
      "text/plain": [
       "FloatProgress(value=0.0, bar_style='info', description='Progress:', layout=Layout(height='25px', width='50%'),…"
      ]
     },
     "metadata": {},
     "output_type": "display_data"
    }
   ],
   "source": [
    "# Restaurants with more than 200 reviews\n",
    "popular_restaurants = df_restaurant_only.filter(df_restaurant_only['review_count'] > 200)"
   ]
  },
  {
   "cell_type": "code",
   "execution_count": 7,
   "metadata": {},
   "outputs": [
    {
     "data": {
      "application/vnd.jupyter.widget-view+json": {
       "model_id": "74a80aefe24e4df1864b907830ad60ba",
       "version_major": 2,
       "version_minor": 0
      },
      "text/plain": [
       "VBox()"
      ]
     },
     "metadata": {},
     "output_type": "display_data"
    },
    {
     "data": {
      "application/vnd.jupyter.widget-view+json": {
       "model_id": "",
       "version_major": 2,
       "version_minor": 0
      },
      "text/plain": [
       "FloatProgress(value=0.0, bar_style='info', description='Progress:', layout=Layout(height='25px', width='50%'),…"
      ]
     },
     "metadata": {},
     "output_type": "display_data"
    }
   ],
   "source": [
    "# Read in review.json\n",
    "reviews = sc.textFile(\"s3a://dsfinal/review.json\")"
   ]
  },
  {
   "cell_type": "code",
   "execution_count": 8,
   "metadata": {},
   "outputs": [
    {
     "data": {
      "application/vnd.jupyter.widget-view+json": {
       "model_id": "055638133c6f4d0690e3f6a1f0720f80",
       "version_major": 2,
       "version_minor": 0
      },
      "text/plain": [
       "VBox()"
      ]
     },
     "metadata": {},
     "output_type": "display_data"
    },
    {
     "data": {
      "application/vnd.jupyter.widget-view+json": {
       "model_id": "",
       "version_major": 2,
       "version_minor": 0
      },
      "text/plain": [
       "FloatProgress(value=0.0, bar_style='info', description='Progress:', layout=Layout(height='25px', width='50%'),…"
      ]
     },
     "metadata": {},
     "output_type": "display_data"
    }
   ],
   "source": [
    "# Put reviews in dataframe\n",
    "df_reviews = spark.read.json(reviews)"
   ]
  },
  {
   "cell_type": "code",
   "execution_count": 9,
   "metadata": {},
   "outputs": [
    {
     "data": {
      "application/vnd.jupyter.widget-view+json": {
       "model_id": "cd242bfe061748cf8ff3fc1ef7576b87",
       "version_major": 2,
       "version_minor": 0
      },
      "text/plain": [
       "VBox()"
      ]
     },
     "metadata": {},
     "output_type": "display_data"
    },
    {
     "data": {
      "application/vnd.jupyter.widget-view+json": {
       "model_id": "",
       "version_major": 2,
       "version_minor": 0
      },
      "text/plain": [
       "FloatProgress(value=0.0, bar_style='info', description='Progress:', layout=Layout(height='25px', width='50%'),…"
      ]
     },
     "metadata": {},
     "output_type": "display_data"
    }
   ],
   "source": [
    "# Save list of restaurant ids with > 200 reviews\n",
    "restaurant_ids_list = popular_restaurants.select('business_id').rdd.flatMap(lambda x: x).collect()"
   ]
  },
  {
   "cell_type": "code",
   "execution_count": 10,
   "metadata": {},
   "outputs": [
    {
     "data": {
      "application/vnd.jupyter.widget-view+json": {
       "model_id": "2d559236e69540b2b2f0aebbf80ed8d1",
       "version_major": 2,
       "version_minor": 0
      },
      "text/plain": [
       "VBox()"
      ]
     },
     "metadata": {},
     "output_type": "display_data"
    },
    {
     "data": {
      "application/vnd.jupyter.widget-view+json": {
       "model_id": "",
       "version_major": 2,
       "version_minor": 0
      },
      "text/plain": [
       "FloatProgress(value=0.0, bar_style='info', description='Progress:', layout=Layout(height='25px', width='50%'),…"
      ]
     },
     "metadata": {},
     "output_type": "display_data"
    }
   ],
   "source": [
    "# restaurant_reviews has reviews of restaurants with > 200 reviews\n",
    "restaurant_reviews = df_reviews.where(df_reviews.business_id.isin(restaurant_ids_list))"
   ]
  },
  {
   "cell_type": "code",
   "execution_count": 11,
   "metadata": {},
   "outputs": [
    {
     "data": {
      "application/vnd.jupyter.widget-view+json": {
       "model_id": "c1c21f8f8230445287f1aea17d0da73c",
       "version_major": 2,
       "version_minor": 0
      },
      "text/plain": [
       "VBox()"
      ]
     },
     "metadata": {},
     "output_type": "display_data"
    },
    {
     "data": {
      "application/vnd.jupyter.widget-view+json": {
       "model_id": "",
       "version_major": 2,
       "version_minor": 0
      },
      "text/plain": [
       "FloatProgress(value=0.0, bar_style='info', description='Progress:', layout=Layout(height='25px', width='50%'),…"
      ]
     },
     "metadata": {},
     "output_type": "display_data"
    }
   ],
   "source": [
    "# Only have reviews with at least one useful vote\n",
    "restaurant_reviews_useful = restaurant_reviews.filter(restaurant_reviews['useful'] > 0)"
   ]
  },
  {
   "cell_type": "code",
   "execution_count": 12,
   "metadata": {},
   "outputs": [
    {
     "data": {
      "application/vnd.jupyter.widget-view+json": {
       "model_id": "8acbae26002045b98fbacc9cffc8149d",
       "version_major": 2,
       "version_minor": 0
      },
      "text/plain": [
       "VBox()"
      ]
     },
     "metadata": {},
     "output_type": "display_data"
    },
    {
     "data": {
      "application/vnd.jupyter.widget-view+json": {
       "model_id": "",
       "version_major": 2,
       "version_minor": 0
      },
      "text/plain": [
       "FloatProgress(value=0.0, bar_style='info', description='Progress:', layout=Layout(height='25px', width='50%'),…"
      ]
     },
     "metadata": {},
     "output_type": "display_data"
    }
   ],
   "source": [
    "df5 = restaurant_reviews_useful.filter(restaurant_reviews['stars'] == 5.0)"
   ]
  },
  {
   "cell_type": "code",
   "execution_count": 13,
   "metadata": {},
   "outputs": [
    {
     "data": {
      "application/vnd.jupyter.widget-view+json": {
       "model_id": "e9c9d9cc8210479db2d9963942f0b9cc",
       "version_major": 2,
       "version_minor": 0
      },
      "text/plain": [
       "VBox()"
      ]
     },
     "metadata": {},
     "output_type": "display_data"
    },
    {
     "data": {
      "application/vnd.jupyter.widget-view+json": {
       "model_id": "",
       "version_major": 2,
       "version_minor": 0
      },
      "text/plain": [
       "FloatProgress(value=0.0, bar_style='info', description='Progress:', layout=Layout(height='25px', width='50%'),…"
      ]
     },
     "metadata": {},
     "output_type": "display_data"
    }
   ],
   "source": [
    "df4 = restaurant_reviews_useful.filter(restaurant_reviews['stars'] == 4.0)"
   ]
  },
  {
   "cell_type": "code",
   "execution_count": 14,
   "metadata": {},
   "outputs": [
    {
     "data": {
      "application/vnd.jupyter.widget-view+json": {
       "model_id": "a922262095134412946d6ceea1cc9d9f",
       "version_major": 2,
       "version_minor": 0
      },
      "text/plain": [
       "VBox()"
      ]
     },
     "metadata": {},
     "output_type": "display_data"
    },
    {
     "data": {
      "application/vnd.jupyter.widget-view+json": {
       "model_id": "",
       "version_major": 2,
       "version_minor": 0
      },
      "text/plain": [
       "FloatProgress(value=0.0, bar_style='info', description='Progress:', layout=Layout(height='25px', width='50%'),…"
      ]
     },
     "metadata": {},
     "output_type": "display_data"
    }
   ],
   "source": [
    "df3 = restaurant_reviews_useful.filter(restaurant_reviews['stars'] == 3.0)"
   ]
  },
  {
   "cell_type": "code",
   "execution_count": 15,
   "metadata": {},
   "outputs": [
    {
     "data": {
      "application/vnd.jupyter.widget-view+json": {
       "model_id": "36474a074f79455c83113ddc4b0f7b87",
       "version_major": 2,
       "version_minor": 0
      },
      "text/plain": [
       "VBox()"
      ]
     },
     "metadata": {},
     "output_type": "display_data"
    },
    {
     "data": {
      "application/vnd.jupyter.widget-view+json": {
       "model_id": "",
       "version_major": 2,
       "version_minor": 0
      },
      "text/plain": [
       "FloatProgress(value=0.0, bar_style='info', description='Progress:', layout=Layout(height='25px', width='50%'),…"
      ]
     },
     "metadata": {},
     "output_type": "display_data"
    }
   ],
   "source": [
    "df2 = restaurant_reviews_useful.filter(restaurant_reviews['stars'] == 2.0)"
   ]
  },
  {
   "cell_type": "code",
   "execution_count": 16,
   "metadata": {},
   "outputs": [
    {
     "data": {
      "application/vnd.jupyter.widget-view+json": {
       "model_id": "fe8518969f634e4fbe0b1fe375e67365",
       "version_major": 2,
       "version_minor": 0
      },
      "text/plain": [
       "VBox()"
      ]
     },
     "metadata": {},
     "output_type": "display_data"
    },
    {
     "data": {
      "application/vnd.jupyter.widget-view+json": {
       "model_id": "",
       "version_major": 2,
       "version_minor": 0
      },
      "text/plain": [
       "FloatProgress(value=0.0, bar_style='info', description='Progress:', layout=Layout(height='25px', width='50%'),…"
      ]
     },
     "metadata": {},
     "output_type": "display_data"
    }
   ],
   "source": [
    "df1 = restaurant_reviews_useful.filter(restaurant_reviews['stars'] == 1.0)"
   ]
  },
  {
   "cell_type": "markdown",
   "metadata": {},
   "source": [
    "Balance the data"
   ]
  },
  {
   "cell_type": "code",
   "execution_count": 17,
   "metadata": {},
   "outputs": [
    {
     "data": {
      "application/vnd.jupyter.widget-view+json": {
       "model_id": "af06011084104e159ef724081a7e9293",
       "version_major": 2,
       "version_minor": 0
      },
      "text/plain": [
       "VBox()"
      ]
     },
     "metadata": {},
     "output_type": "display_data"
    },
    {
     "data": {
      "application/vnd.jupyter.widget-view+json": {
       "model_id": "",
       "version_major": 2,
       "version_minor": 0
      },
      "text/plain": [
       "FloatProgress(value=0.0, bar_style='info', description='Progress:', layout=Layout(height='25px', width='50%'),…"
      ]
     },
     "metadata": {},
     "output_type": "display_data"
    }
   ],
   "source": [
    "sampleRatio5 = 91988/338840\n",
    "undersampled_5 = df5.sample(False, sampleRatio5)"
   ]
  },
  {
   "cell_type": "code",
   "execution_count": 18,
   "metadata": {},
   "outputs": [
    {
     "data": {
      "application/vnd.jupyter.widget-view+json": {
       "model_id": "55ef75c53da44aff85b52d3f15d9592f",
       "version_major": 2,
       "version_minor": 0
      },
      "text/plain": [
       "VBox()"
      ]
     },
     "metadata": {},
     "output_type": "display_data"
    },
    {
     "data": {
      "application/vnd.jupyter.widget-view+json": {
       "model_id": "",
       "version_major": 2,
       "version_minor": 0
      },
      "text/plain": [
       "FloatProgress(value=0.0, bar_style='info', description='Progress:', layout=Layout(height='25px', width='50%'),…"
      ]
     },
     "metadata": {},
     "output_type": "display_data"
    }
   ],
   "source": [
    "sampleRatio4 = 91988/243028\n",
    "undersampled_4 = df4.sample(False, sampleRatio4)"
   ]
  },
  {
   "cell_type": "code",
   "execution_count": 19,
   "metadata": {},
   "outputs": [
    {
     "data": {
      "application/vnd.jupyter.widget-view+json": {
       "model_id": "83a354530b1f4e3a9edd48f54cdbce63",
       "version_major": 2,
       "version_minor": 0
      },
      "text/plain": [
       "VBox()"
      ]
     },
     "metadata": {},
     "output_type": "display_data"
    },
    {
     "data": {
      "application/vnd.jupyter.widget-view+json": {
       "model_id": "",
       "version_major": 2,
       "version_minor": 0
      },
      "text/plain": [
       "FloatProgress(value=0.0, bar_style='info', description='Progress:', layout=Layout(height='25px', width='50%'),…"
      ]
     },
     "metadata": {},
     "output_type": "display_data"
    }
   ],
   "source": [
    "sampleRatio3 = 91988/121834\n",
    "undersampled_3 = df3.sample(False, sampleRatio3)"
   ]
  },
  {
   "cell_type": "code",
   "execution_count": 20,
   "metadata": {},
   "outputs": [
    {
     "data": {
      "application/vnd.jupyter.widget-view+json": {
       "model_id": "4d8202139f964575bdd772ebe1651931",
       "version_major": 2,
       "version_minor": 0
      },
      "text/plain": [
       "VBox()"
      ]
     },
     "metadata": {},
     "output_type": "display_data"
    },
    {
     "data": {
      "application/vnd.jupyter.widget-view+json": {
       "model_id": "",
       "version_major": 2,
       "version_minor": 0
      },
      "text/plain": [
       "FloatProgress(value=0.0, bar_style='info', description='Progress:', layout=Layout(height='25px', width='50%'),…"
      ]
     },
     "metadata": {},
     "output_type": "display_data"
    }
   ],
   "source": [
    "sampleRatio1 = 91988/101465\n",
    "undersampled_1 = df1.sample(False, sampleRatio1)"
   ]
  },
  {
   "cell_type": "code",
   "execution_count": 21,
   "metadata": {},
   "outputs": [
    {
     "data": {
      "application/vnd.jupyter.widget-view+json": {
       "model_id": "cdafee7848214182af1900e4d757e836",
       "version_major": 2,
       "version_minor": 0
      },
      "text/plain": [
       "VBox()"
      ]
     },
     "metadata": {},
     "output_type": "display_data"
    },
    {
     "data": {
      "application/vnd.jupyter.widget-view+json": {
       "model_id": "",
       "version_major": 2,
       "version_minor": 0
      },
      "text/plain": [
       "FloatProgress(value=0.0, bar_style='info', description='Progress:', layout=Layout(height='25px', width='50%'),…"
      ]
     },
     "metadata": {},
     "output_type": "display_data"
    }
   ],
   "source": [
    "total1 = undersampled_1.unionAll(undersampled_3)"
   ]
  },
  {
   "cell_type": "code",
   "execution_count": 22,
   "metadata": {},
   "outputs": [
    {
     "data": {
      "application/vnd.jupyter.widget-view+json": {
       "model_id": "ba969c0ed6e14a248eab7805dfbbb753",
       "version_major": 2,
       "version_minor": 0
      },
      "text/plain": [
       "VBox()"
      ]
     },
     "metadata": {},
     "output_type": "display_data"
    },
    {
     "data": {
      "application/vnd.jupyter.widget-view+json": {
       "model_id": "",
       "version_major": 2,
       "version_minor": 0
      },
      "text/plain": [
       "FloatProgress(value=0.0, bar_style='info', description='Progress:', layout=Layout(height='25px', width='50%'),…"
      ]
     },
     "metadata": {},
     "output_type": "display_data"
    }
   ],
   "source": [
    "total2 = total1.unionAll(undersampled_4)"
   ]
  },
  {
   "cell_type": "code",
   "execution_count": 23,
   "metadata": {},
   "outputs": [
    {
     "data": {
      "application/vnd.jupyter.widget-view+json": {
       "model_id": "4077e2a7e1294dcfb5335ccb7072ad2b",
       "version_major": 2,
       "version_minor": 0
      },
      "text/plain": [
       "VBox()"
      ]
     },
     "metadata": {},
     "output_type": "display_data"
    },
    {
     "data": {
      "application/vnd.jupyter.widget-view+json": {
       "model_id": "",
       "version_major": 2,
       "version_minor": 0
      },
      "text/plain": [
       "FloatProgress(value=0.0, bar_style='info', description='Progress:', layout=Layout(height='25px', width='50%'),…"
      ]
     },
     "metadata": {},
     "output_type": "display_data"
    }
   ],
   "source": [
    "total3 = total2.unionAll(undersampled_5)"
   ]
  },
  {
   "cell_type": "code",
   "execution_count": 24,
   "metadata": {},
   "outputs": [
    {
     "data": {
      "application/vnd.jupyter.widget-view+json": {
       "model_id": "4ebd80031e0945e3a05dcb1cebf41876",
       "version_major": 2,
       "version_minor": 0
      },
      "text/plain": [
       "VBox()"
      ]
     },
     "metadata": {},
     "output_type": "display_data"
    },
    {
     "data": {
      "application/vnd.jupyter.widget-view+json": {
       "model_id": "",
       "version_major": 2,
       "version_minor": 0
      },
      "text/plain": [
       "FloatProgress(value=0.0, bar_style='info', description='Progress:', layout=Layout(height='25px', width='50%'),…"
      ]
     },
     "metadata": {},
     "output_type": "display_data"
    }
   ],
   "source": [
    "balanced_review_data = total3.unionAll(df2)"
   ]
  },
  {
   "cell_type": "code",
   "execution_count": 25,
   "metadata": {},
   "outputs": [
    {
     "data": {
      "application/vnd.jupyter.widget-view+json": {
       "model_id": "3db3ee9a4ac64c6eaedad4106a9fe4ba",
       "version_major": 2,
       "version_minor": 0
      },
      "text/plain": [
       "VBox()"
      ]
     },
     "metadata": {},
     "output_type": "display_data"
    },
    {
     "data": {
      "application/vnd.jupyter.widget-view+json": {
       "model_id": "",
       "version_major": 2,
       "version_minor": 0
      },
      "text/plain": [
       "FloatProgress(value=0.0, bar_style='info', description='Progress:', layout=Layout(height='25px', width='50%'),…"
      ]
     },
     "metadata": {},
     "output_type": "display_data"
    }
   ],
   "source": [
    "# Only save important columns of stars and text\n",
    "balanced_review_data = balanced_review_data.select(\"stars\", \"text\")"
   ]
  },
  {
   "cell_type": "code",
   "execution_count": 26,
   "metadata": {},
   "outputs": [
    {
     "data": {
      "application/vnd.jupyter.widget-view+json": {
       "model_id": "798d06b398014012bd03f0756ad15733",
       "version_major": 2,
       "version_minor": 0
      },
      "text/plain": [
       "VBox()"
      ]
     },
     "metadata": {},
     "output_type": "display_data"
    },
    {
     "data": {
      "application/vnd.jupyter.widget-view+json": {
       "model_id": "",
       "version_major": 2,
       "version_minor": 0
      },
      "text/plain": [
       "FloatProgress(value=0.0, bar_style='info', description='Progress:', layout=Layout(height='25px', width='50%'),…"
      ]
     },
     "metadata": {},
     "output_type": "display_data"
    },
    {
     "name": "stdout",
     "output_type": "stream",
     "text": [
      "+-----+--------------------+\n",
      "|stars|                text|\n",
      "+-----+--------------------+\n",
      "|  1.0|We had dinner at ...|\n",
      "|  1.0|I am so blown awa...|\n",
      "|  1.0|Worse than before...|\n",
      "+-----+--------------------+\n",
      "only showing top 3 rows"
     ]
    }
   ],
   "source": [
    "balanced_review_data.show(3)"
   ]
  },
  {
   "cell_type": "code",
   "execution_count": 27,
   "metadata": {},
   "outputs": [
    {
     "data": {
      "application/vnd.jupyter.widget-view+json": {
       "model_id": "8589079194d341c1b53e57b542eda48e",
       "version_major": 2,
       "version_minor": 0
      },
      "text/plain": [
       "VBox()"
      ]
     },
     "metadata": {},
     "output_type": "display_data"
    },
    {
     "data": {
      "application/vnd.jupyter.widget-view+json": {
       "model_id": "",
       "version_major": 2,
       "version_minor": 0
      },
      "text/plain": [
       "FloatProgress(value=0.0, bar_style='info', description='Progress:', layout=Layout(height='25px', width='50%'),…"
      ]
     },
     "metadata": {},
     "output_type": "display_data"
    }
   ],
   "source": [
    "from pyspark.ml.feature import RegexTokenizer, StopWordsRemover, CountVectorizer, NGram\n",
    "from pyspark.ml.classification import LogisticRegression\n",
    "# regular expression tokenizer\n",
    "regexTokenizer = RegexTokenizer(inputCol=\"text\", outputCol=\"words\", pattern=\"\\\\W\")\n",
    "# stop words\n",
    "#add_stopwords = StopWordsRemover.loadDefaultStopWords(\"english\")\n",
    "#stopwordsRemover = StopWordsRemover(inputCol=\"words\", outputCol=\"filtered\").setStopWords(add_stopwords)\n",
    "# ngram\n",
    "ngram = NGram(n=2, inputCol=\"words\", outputCol=\"ngrams\")"
   ]
  },
  {
   "cell_type": "code",
   "execution_count": 28,
   "metadata": {},
   "outputs": [
    {
     "data": {
      "application/vnd.jupyter.widget-view+json": {
       "model_id": "e3630e46603c4cab85d7aa4da17b17ba",
       "version_major": 2,
       "version_minor": 0
      },
      "text/plain": [
       "VBox()"
      ]
     },
     "metadata": {},
     "output_type": "display_data"
    },
    {
     "data": {
      "application/vnd.jupyter.widget-view+json": {
       "model_id": "",
       "version_major": 2,
       "version_minor": 0
      },
      "text/plain": [
       "FloatProgress(value=0.0, bar_style='info', description='Progress:', layout=Layout(height='25px', width='50%'),…"
      ]
     },
     "metadata": {},
     "output_type": "display_data"
    }
   ],
   "source": [
    "from pyspark.ml.feature import HashingTF, IDF\n",
    "from pyspark.ml import Pipeline\n",
    "hashingTF = HashingTF(inputCol=\"ngrams\", outputCol=\"rawFeatures\", numFeatures=10000)\n",
    "idf = IDF(inputCol=\"rawFeatures\", outputCol=\"features\", minDocFreq=30) #minDocFreq: remove sparse terms\n",
    "pipeline = Pipeline(stages=[regexTokenizer, ngram, hashingTF, idf])"
   ]
  },
  {
   "cell_type": "code",
   "execution_count": 29,
   "metadata": {
    "scrolled": true
   },
   "outputs": [
    {
     "data": {
      "application/vnd.jupyter.widget-view+json": {
       "model_id": "2b74d16cfc7a472da04cfb6683505172",
       "version_major": 2,
       "version_minor": 0
      },
      "text/plain": [
       "VBox()"
      ]
     },
     "metadata": {},
     "output_type": "display_data"
    },
    {
     "data": {
      "application/vnd.jupyter.widget-view+json": {
       "model_id": "",
       "version_major": 2,
       "version_minor": 0
      },
      "text/plain": [
       "FloatProgress(value=0.0, bar_style='info', description='Progress:', layout=Layout(height='25px', width='50%'),…"
      ]
     },
     "metadata": {},
     "output_type": "display_data"
    },
    {
     "name": "stdout",
     "output_type": "stream",
     "text": [
      "+-----+-------------------------------------------------------------------------------------------------------------------------------------------------------------------------------------------------------------------------------------------------------------------------------------------------------------------------------------------------------------------------------------------------------------------------------------------------------------------------------------------------------------------------------------------------------------------------------------------------------------------------------------------------------------------------------------------------------------------------------------------------------------------------------------------------------------------------------------------------------------------------------------------------------------------------------------------------------------------------------------------------------------------------------------------------------------------------------------------------------------------------------------------------------------------------------------------------------------------------------------------------------------------------------------------------------------------------------------------------------------------------------------------------------------------------------------------------------------------------------------------------------------------------------------------------------------------------------------------------------------------------------------------------------------------------------------------------------------------------------------------------------------------------------------------------------------------------------------------------------------------------------------------------------------------------------------------------------------------------------------------------------------------------------------------------------------------------------------------------------------------------------------------------------------------------------------------------------------------------------------------------------------------------------------------------------------------------------------------------------------------------------------------------------------------------------------------------------------------------------------------------------------------------------------------------------------------------------------------------------------------------------------------------------------------------------------------------------------------------------------------------------------------------------------------------------------------------------------------------------------------------------------------------------------------------------------------------------------------------------------------------------------------------------------------------------------------------------------------------------------------------------------------------------------------------+--------------------------------------------------------------------------------------------------------------------------------------------------------------------------------------------------------------------------------------------------------------------------------------------------------------------------------------------------------------------------------------------------------------------------------------------------------------------------------------------------------------------------------------------------------------------------------------------------------------------------------------------------------------------------------------------------------------------------------------------------------------------------------------------------------------------------------------------------------------------------------------------------------------------------------------------------------------------------------------------------------------------------------------------------------------------------------------------------------------------------------------------------------------------------------------------------------------------------------------------------------------------------------------------------------------------------------------------------------------------------------------------------------------------------------------------------------------------------------------------------------------------------------------------------------------------------------------------------------------------------------------------------------------------------------------------------------------------------------------------------------------------------------------------------------------------------------------------------------------------------------------------------------------------------------------------------------------------------------------------------------------------------------------------------------------------------------------------------------------------------------------------------------------------------------------------------------------------------------------------------------------------------------------------------------------------------------------------------------------------------------------------------------------------------------------------------------------------------------------------------------------------------------------------------------------------------------------------------------------------------------------------------------------------------------------------------------------------------------------------------------------------------------------------------------------------------------------------------------------------------------------------------------------------------------------------------------------------------------------------------------------------------------------------------------------------------------------------------------------------------------------------------------------------------------------------------------------------------------------------------------------------------------------------------------------------------------------------------------------------------------------------------------------------------------------------------------------------------------------------------------------------------------------------------------------------------------------------------------------------------------------------------------------------------------------------+---------------------------------------------------------------------------------------------------------------------------------------------------------------------------------------------------------------------------------------------------------------------------------------------------------------------------------------------------------------------------------------------------------------------------------------------------------------------------------------------------------------------------------------------------------------------------------------------------------------------------------------------------------------------------------------------------------------------------------------------------------------------------------------------------------------------------------------------------------------------------------------------------------------------------------------------------------------------------------------------------------------------------------------------------------------------------------------------------------------------------------------------------------------------------------------------------------------------------------------------------------------------------------------------------------------------------------------------------------------------------------------------------------------------------------------------------------------------------------------------------------------------------------------------------------------------------------------------------------------------------------------------------------------------------------------------------------------------------------------------------------------------------------------------------------------------------------------------------------------------------------------------------------------------------------------------------------------------------------------------------------------------------------------------------------------------------------------------------------------------------------------------------------------------------------------------------------------------------------------------------------------------------------------------------------------------------------------------------------------------------------------------------------------------------------------------------------------------------------------------------------------------------------------------------------------------------------------------------------------------------------------------------------------------------------------------------------------------------------------------------------------------------------------------------------------------------------------------------------------------------------------------------------------------------------------------------------------------------------------------------------------------------------------------------------------------------------------------------------------------------------------------------------------------------------------------------------------------------------------------------------------------------------------------------------------------------------------------------------------------------------------------------------------------------------------------------------------------------------------------------------------------------------------------------------------------------------------------------------------------------------------------------------------------------------------------------------------------------------------------------------------------------------------------------------------------------------------------------------------------------------------------------------------------------------------------------------------------------------------------------------------------------------------------------------------------------------------------------------------------------------------------------------------------------------------------------------------------------------------------------------------------------------------------------------------------------------------------------------------------------------------------------------------------------------------------------------------------------------------------------------------------------------------------------------------------------------------------------------------------------------------------------------------------------------------------------------------------------------------------------------------------------------------------------------------------------------------------------------------------------------------------------------------------------------------------------------------------------------------------------------------------------------------------------------------------------------------------------------------------------------------------------------------------------------------------------------------------------------------------------------------------------------------------------------------------------------------------------------------------------------------------------------------------------------------------------------------------------------------------------------------------------------------------------------------------------------------------------------------------------------------------------------------------------------------------------------------------------------------------------------------------------------------------------------------------------------------------------------------------------------------------------------------------------------------------------------------------------------------------------------------------------------------------------------------------------------------------------------------------------------------------------------------------------------------------------------------------------------------------------------------------------------------------------------------------------------------------------------------------------------------------------------------------------------------------------------------------------------------------------------------------------------------------------------------------------------------------------------------------------------------------------------------------------------------------------------------------------------------------+---------------------------------------------------------------------------------------------------------------------------------------------------------------------------------------------------------------------------------------------------------------------------------------------------------------------------------------------------------------------------------------------------------------------------------------------------------------------------------------------------------------------------------------------------------------------------------------------------------------------------------------------------------------------------------------------------------------------------------------------------------------------------------------------------------------------------------------------------------------------------------------------------------------------------------------------------------------------------------------------------------------------------------------------------------------------------------------------------------------------------------------------------------------------------------------------------------------------------------------------------------------------------------------------------------------------------------------------------------------------------------------------------------------------------------------------------------------------------------------------------------------------------------------------------------------------------------------------------------------------------------------------------------------------------------------------------------------------------------------------------------------------------------------------------------------------------------------------------------------------------------------------------------------------------------------------------------------------------------------------------------------------------------------------------------------------------------------------------------------------------------------------------------------------------------------------------------------------------------------------------------------------------------------------------------------------------------------------------------------------------------------------------------------------------------------------------------------------------------------------------------------------------------------------------------------------------------------------------------------------------------------------------------------------------------------------------------------------------------------------------------------------------------------------------------------------------------------------------------------------------------------------------------------------------------------------------------------------------------------------------------------------------------------------------------------------------------------------------------------------------------------------------------------------------------------------------------------------------------------------------------------------------------------------------------------------------------------------------------------------------------------------------------------------------------------------------------------------------------------------------------------------------------------------------------------------------------------------------------------------------------------------------------------------------------------------------------------------------------------------------------------------------------------------------------------------------------------------------------------------------------------------------------------------------------------------------------------------------------------------------------------------------------------------------------------------------------------------------------------------------------------------------------------------------------------------------------------------------------------------------------------------------------------------------------------------------------------------------------------------------------------------------------------------------------------------------------------------------------------------------------------------------------------------------------------------------------------------------------------------------------------------------------------------------------------------------------------------------------------------------------------------------------------------------------------------------------------------------------------------------------------------------------------------------+--------------------------------------------------------------------------------------------------------------------------------------------------------------------------------------------------------------------------------------------------------------------------------------------------------------------------------------------------------------------------------------------------------------------------------------------------------------------------------------------------------------------------------------------------------------------------------------------------------------------------------------------------------------------------------------------------------------------------------------------------------------------------------------------------------------------------------------------------------------------------------------------------------------------------------------------------------------------------------------------------------------------------------------------------------------------------------------------------------------------------------------------------------------------------------------------------------------------------------------------------------------------------------------------------------------------------------------------------------------------------------------------------------------------------------------------------------------------------------------------------------------------------------------------------------------------------------------------------------------------------------------------------------------------------------------------------------------------------------------------------------------------------------------------------------------------------------------------------------------------------------------------------------------------------------------------------------------------------------------------------------------------------------------------------------------------------------------------------------------------------------------------------------------------------------------------------------------------------------------------------------------------------------------------------------------------------------------------------------------------------------------------------------------------------------------------------------------------------------------------------------------------------------------------------------------------------------------------------------------------------------------------------------------------------------------------------------------------------------------------------------------------------------------------------------------------------------------------------------------------------------------------------------------------------------------------------------------------------------------------------------------------------------------------------------------------------------------------------------------------------------------------------------------------------------------------------------------------------------------------------------------------------------------------------------------------------------------------------------------------------------------------------------------------------------------------------------------------------------------------------------------------------------------------------------------------------------------------------------------------------------------------------------------------------------------------------------------------------------------------------------------------------------------------------------------------------------------------------------------------------------------------------------------------------------------------------------------------------------------------------------------------------------------------------------------------------------------------------------------------------------------------------------------------------------------------------------------------------------------------------------------------------------------------------------------------------------------------------------------------------------------------------------------------------------------------------------------------------------------------------------------------------------------------------------------------------------------------------------------------------------------------------------------------------------------------------------------------------------------------------------------------------------------------------------------------------------------------------------------------------------------------------------------------------------------------------------------------------------------------------------------------------------------------------------------------------------------------------------------------------------------------------------------------------------------------------------------------------------------------------------------------------------------------------------------------------------------------------------------------------------------------------------------------------------------------------------------------------------------------------------------------------------------------------------------------------------------------------------------------------------------------------------------------------------------------------------------------------------------------------------------------------------------------------------------------------------------------------------------------------------------------------------------------------------------------------------------------------------------------------------------------------------------------------------------------------------------------------------------------------------------------------------------------------------------------------------------------------------------------------------------------------------------------------------------------------------------------------------------------------------------------------------------------------------------------------------------------------------------------------------------------------------------------------------------------------------------------------------------------------------------------------------------------------------------------------------------------------------------------------------------------------------------------------------------------------------------------------------------------------------------------------------------------------------------------------------------------------------------------------------------------------------------------------------------------------------------------------------------------------------------------------------------------------------------------------------------------------------------------------------------------------------------------------------------------------------------------------------------------------------------------------------------------------------------------------------------------------------------------------------------------------------------------------------------------------------------------------------------------------------------------------------------------------------------------------------------------------------------------------------------------------------------------------------------------------------------------------------------------------------------------------------------------------------------------------------------------------------------------------------------------------------------------------------------------------------------------------------------------------------------------------------------------------------------------------------------------------------------------------------------------------------------------------------------------------------------------------------------------------------------------------------------------------------------------------------------------------------------------------------------------------------------------------------------------------------------------------------------------------------------------------------------------------------------------------------------------------------------------------------------------------------------------------------------------------------------------------------------------------------------------------------------------------------------------------------------------------------------------------------------------------------------------------------------------------------------------------------------------------------------------------------------------------------------------------------------------------------------------------------------------------------------------------------------------------------------------------------------------------------------------------------------------------------------------------------------------------------------------------------------------------------------------------------------------------------------------------------------------------------------------------------------------------------------------------------------------------------------------------------------------------------------------------------------------------------------------------------------------------------------------------------------------------------------------------------------------------------------------------------------------------------------------------------------------------------------------------------------------------------------------------------------------------------------------------------------------------------------------------------------------------------------------------------------------------------------------------------------------------------------------------------------------------------------------------------------------------------------------------------------------------------------------------------------------------------------------------------------------------------------------------------------------------------------------------------------------------------------------------------------------------------------------------------------------------------------------------------------------------------------------------------------------------------------------------------------------------------------------------------------------------------------------------------------------------------------------------------------------------------------------------------------------------------------------------------------------------------------------------------------------------------------------------------------------------------------------------------------------------------------------------------------------------------------------------------------------------------------------------------------------------------------------------------------------------------------------------------------------------------------------------------------------------------------------------------------------------------------------------------------------------------------------------------------------------------------------------------------------------------------------------------------------------------------------------------------------------------------------------------------------------------------------------------------------------------------------------------------------------------------------------------------------------------------------------------------------------------------------------------------------------------------------------------------------------------------------------------------------------------------------------------------------------------------------------------------------------------------------------------------------------------------------------------------------------------------------------------------------------------------------------------------------------------------------------------------------------------------------------------------------------------------------------------+\n",
      "|stars|text                                                                                                                                                                                                                                                                                                                                                                                                                                                                                                                                                                                                                                                                                                                                                                                                                                                                                                                                                                                                                                                                                                                                                                                                                                                                                                                                                                                                                                                                                                                                                                                                                                                                                                                                                                                                                                                                                                                                                                                                                                                                                                                                                                                                                                                                                                                                                                                                                                                                                                                                                                                                                                                                                                                                                                                                                                                                                                                                                                                                                                                                                                                                                                     |words                                                                                                                                                                                                                                                                                                                                                                                                                                                                                                                                                                                                                                                                                                                                                                                                                                                                                                                                                                                                                                                                                                                                                                                                                                                                                                                                                                                                                                                                                                                                                                                                                                                                                                                                                                                                                                                                                                                                                                                                                                                                                                                                                                                                                                                                                                                                                                                                                                                                                                                                                                                                                                                                                                                                                                                                                                                                                                                                                                                                                                                                                                                                                                                                                                                                                                                                                                                                                                                                                                                                                                                                                                                                                       |ngrams                                                                                                                                                                                                                                                                                                                                                                                                                                                                                                                                                                                                                                                                                                                                                                                                                                                                                                                                                                                                                                                                                                                                                                                                                                                                                                                                                                                                                                                                                                                                                                                                                                                                                                                                                                                                                                                                                                                                                                                                                                                                                                                                                                                                                                                                                                                                                                                                                                                                                                                                                                                                                                                                                                                                                                                                                                                                                                                                                                                                                                                                                                                                                                                                                                                                                                                                                                                                                                                                                                                                                                                                                                                                                                                                                                                                                                                                                                                                                                                                                                                                                                                                                                                                                                                                                                                                                                                                                                                                                                                                                                                                                                                                                                                                                                                                                                                                                                                                                                                                                                                                                                                                                                                                                                                                                                                                                                                                                                                                                                                                                                                                                                                                                                                                                                                                                                                                                                                                                                                                                                                                                                                                                                                                                                                                                                                                                                                                                                                                                                                                                                                                                                                                                                                                       |rawFeatures                                                                                                                                                                                                                                                                                                                                                                                                                                                                                                                                                                                                                                                                                                                                                                                                                                                                                                                                                                                                                                                                                                                                                                                                                                                                                                                                                                                                                                                                                                                                                                                                                                                                                                                                                                                                                                                                                                                                                                                                                                                                                                                                                                                                                                                                                                                                                                                                                                                                                                                                                                                                                                                                                                                                                                                                                                                                                                                                                                                                                                                                                                                                                                                                                                                                                                                                                                                                                                                                                                                                                                                                                                                                                                                                                                                                                                                                                                                                                                                                                                                                                                                                                                                                                                                                                                                                                                                                                                                                                                                                                                                                                                                                                                                                                                                                                                                                                                                |features                                                                                                                                                                                                                                                                                                                                                                                                                                                                                                                                                                                                                                                                                                                                                                                                                                                                                                                                                                                                                                                                                                                                                                                                                                                                                                                                                                                                                                                                                                                                                                                                                                                                                                                                                                                                                                                                                                                                                                                                                                                                                                                                                                                                                                                                                                                                                                                                                                                                                                                                                                                                                                                                                                                                                                                                                                                                                                                                                                                                                                                                                                                                                                                                                                                                                                                                                                                                                                                                                                                                                                                                                                                                                                                                                                                                                                                                                                                                                                                                                                                                                                                                                                                                                                                                                                                                                                                                                                                                                                                                                                                                                                                                                                                                                                                                                                                                                                                                                                                                                                                                                                                                                                                                                                                                                                                                                                                                                                                                                                                                                                                                                                                                                                                                                                                                                                                                                                                                                                                                                                                                                                                                                                                                                                                                                                                                                                                                                                                                                                                                                                                                                                                                                                                                                                                                                                                                                                                                                                                                                                                                                                                                                                                                                                                                                                                                                                                                                                                                                                                                                                                                                                                                                                                                                                                                                                                                                                                                                                                                                                                                                                                                                                                                                                                                                                                                                                                                                                                                                                                                                                                                                                                                                                                                                                                                                                                                                                                                                                                                                                                                                                                                                                                                                                                                                                                                                                                                                                                                                                                                                                                                                                                                                                                                                                                                                                                                                                                                                                                                                                                                                                                                                                                                                                                                                                                                                                                                                                                                                                                                                                                                                                                                                                                                                                                                                                                                                                                                                                                                                                                                                                                                                                                                                                                                                                                                                                                                                                                                                                                                                                                                                                                                                                                                                                                                                                                                                                                                                                                                                                                                                                                                                                                                                                                                                                                                                                                                                                                                                                                                                                                                                                                                                                                                                                                                |\n",
      "+-----+-------------------------------------------------------------------------------------------------------------------------------------------------------------------------------------------------------------------------------------------------------------------------------------------------------------------------------------------------------------------------------------------------------------------------------------------------------------------------------------------------------------------------------------------------------------------------------------------------------------------------------------------------------------------------------------------------------------------------------------------------------------------------------------------------------------------------------------------------------------------------------------------------------------------------------------------------------------------------------------------------------------------------------------------------------------------------------------------------------------------------------------------------------------------------------------------------------------------------------------------------------------------------------------------------------------------------------------------------------------------------------------------------------------------------------------------------------------------------------------------------------------------------------------------------------------------------------------------------------------------------------------------------------------------------------------------------------------------------------------------------------------------------------------------------------------------------------------------------------------------------------------------------------------------------------------------------------------------------------------------------------------------------------------------------------------------------------------------------------------------------------------------------------------------------------------------------------------------------------------------------------------------------------------------------------------------------------------------------------------------------------------------------------------------------------------------------------------------------------------------------------------------------------------------------------------------------------------------------------------------------------------------------------------------------------------------------------------------------------------------------------------------------------------------------------------------------------------------------------------------------------------------------------------------------------------------------------------------------------------------------------------------------------------------------------------------------------------------------------------------------------------------------------------------------+--------------------------------------------------------------------------------------------------------------------------------------------------------------------------------------------------------------------------------------------------------------------------------------------------------------------------------------------------------------------------------------------------------------------------------------------------------------------------------------------------------------------------------------------------------------------------------------------------------------------------------------------------------------------------------------------------------------------------------------------------------------------------------------------------------------------------------------------------------------------------------------------------------------------------------------------------------------------------------------------------------------------------------------------------------------------------------------------------------------------------------------------------------------------------------------------------------------------------------------------------------------------------------------------------------------------------------------------------------------------------------------------------------------------------------------------------------------------------------------------------------------------------------------------------------------------------------------------------------------------------------------------------------------------------------------------------------------------------------------------------------------------------------------------------------------------------------------------------------------------------------------------------------------------------------------------------------------------------------------------------------------------------------------------------------------------------------------------------------------------------------------------------------------------------------------------------------------------------------------------------------------------------------------------------------------------------------------------------------------------------------------------------------------------------------------------------------------------------------------------------------------------------------------------------------------------------------------------------------------------------------------------------------------------------------------------------------------------------------------------------------------------------------------------------------------------------------------------------------------------------------------------------------------------------------------------------------------------------------------------------------------------------------------------------------------------------------------------------------------------------------------------------------------------------------------------------------------------------------------------------------------------------------------------------------------------------------------------------------------------------------------------------------------------------------------------------------------------------------------------------------------------------------------------------------------------------------------------------------------------------------------------------------------------------------------------+---------------------------------------------------------------------------------------------------------------------------------------------------------------------------------------------------------------------------------------------------------------------------------------------------------------------------------------------------------------------------------------------------------------------------------------------------------------------------------------------------------------------------------------------------------------------------------------------------------------------------------------------------------------------------------------------------------------------------------------------------------------------------------------------------------------------------------------------------------------------------------------------------------------------------------------------------------------------------------------------------------------------------------------------------------------------------------------------------------------------------------------------------------------------------------------------------------------------------------------------------------------------------------------------------------------------------------------------------------------------------------------------------------------------------------------------------------------------------------------------------------------------------------------------------------------------------------------------------------------------------------------------------------------------------------------------------------------------------------------------------------------------------------------------------------------------------------------------------------------------------------------------------------------------------------------------------------------------------------------------------------------------------------------------------------------------------------------------------------------------------------------------------------------------------------------------------------------------------------------------------------------------------------------------------------------------------------------------------------------------------------------------------------------------------------------------------------------------------------------------------------------------------------------------------------------------------------------------------------------------------------------------------------------------------------------------------------------------------------------------------------------------------------------------------------------------------------------------------------------------------------------------------------------------------------------------------------------------------------------------------------------------------------------------------------------------------------------------------------------------------------------------------------------------------------------------------------------------------------------------------------------------------------------------------------------------------------------------------------------------------------------------------------------------------------------------------------------------------------------------------------------------------------------------------------------------------------------------------------------------------------------------------------------------------------------------------------------------------------------------------------------------------------------------------------------------------------------------------------------------------------------------------------------------------------------------------------------------------------------------------------------------------------------------------------------------------------------------------------------------------------------------------------------------------------------------------------------------------------------------------------------------------------------------------------------------------------------------------------------------------------------------------------------------------------------------------------------------------------------------------------------------------------------------------------------------------------------------------------------------------------------------------------------------------------------------------------------------------------------------------------------------------------------------------------------------------------------------------------------------------------------------------------------------------------------------------------------------------------------------------------------------------------------------------------------------------------------------------------------------------------------------------------------------------------------------------------------------------------------------------------------------------------------------------------------------------------------------------------------------------------------------------------------------------------------------------------------------------------------------------------------------------------------------------------------------------------------------------------------------------------------------------------------------------------------------------------------------------------------------------------------------------------------------------------------------------------------------------------------------------------------------------------------------------------------------------------------------------------------------------------------------------------------------------------------------------------------------------------------------------------------------------------------------------------------------------------------------------------------------------------------------------------------------------------------------------------------------------------------------------------------------------------------------------------------------------------------------------------------------------------------------------------------------------------------------------------------------------------------------------------------------------------------------------------------------------------------------------------------------+---------------------------------------------------------------------------------------------------------------------------------------------------------------------------------------------------------------------------------------------------------------------------------------------------------------------------------------------------------------------------------------------------------------------------------------------------------------------------------------------------------------------------------------------------------------------------------------------------------------------------------------------------------------------------------------------------------------------------------------------------------------------------------------------------------------------------------------------------------------------------------------------------------------------------------------------------------------------------------------------------------------------------------------------------------------------------------------------------------------------------------------------------------------------------------------------------------------------------------------------------------------------------------------------------------------------------------------------------------------------------------------------------------------------------------------------------------------------------------------------------------------------------------------------------------------------------------------------------------------------------------------------------------------------------------------------------------------------------------------------------------------------------------------------------------------------------------------------------------------------------------------------------------------------------------------------------------------------------------------------------------------------------------------------------------------------------------------------------------------------------------------------------------------------------------------------------------------------------------------------------------------------------------------------------------------------------------------------------------------------------------------------------------------------------------------------------------------------------------------------------------------------------------------------------------------------------------------------------------------------------------------------------------------------------------------------------------------------------------------------------------------------------------------------------------------------------------------------------------------------------------------------------------------------------------------------------------------------------------------------------------------------------------------------------------------------------------------------------------------------------------------------------------------------------------------------------------------------------------------------------------------------------------------------------------------------------------------------------------------------------------------------------------------------------------------------------------------------------------------------------------------------------------------------------------------------------------------------------------------------------------------------------------------------------------------------------------------------------------------------------------------------------------------------------------------------------------------------------------------------------------------------------------------------------------------------------------------------------------------------------------------------------------------------------------------------------------------------------------------------------------------------------------------------------------------------------------------------------------------------------------------------------------------------------------------------------------------------------------------------------------------------------------------------------------------------------------------------------------------------------------------------------------------------------------------------------------------------------------------------------------------------------------------------------------------------------------------------------------------------------------------------------------------------------------------------------------------------------------------------------------------------------------------------------+--------------------------------------------------------------------------------------------------------------------------------------------------------------------------------------------------------------------------------------------------------------------------------------------------------------------------------------------------------------------------------------------------------------------------------------------------------------------------------------------------------------------------------------------------------------------------------------------------------------------------------------------------------------------------------------------------------------------------------------------------------------------------------------------------------------------------------------------------------------------------------------------------------------------------------------------------------------------------------------------------------------------------------------------------------------------------------------------------------------------------------------------------------------------------------------------------------------------------------------------------------------------------------------------------------------------------------------------------------------------------------------------------------------------------------------------------------------------------------------------------------------------------------------------------------------------------------------------------------------------------------------------------------------------------------------------------------------------------------------------------------------------------------------------------------------------------------------------------------------------------------------------------------------------------------------------------------------------------------------------------------------------------------------------------------------------------------------------------------------------------------------------------------------------------------------------------------------------------------------------------------------------------------------------------------------------------------------------------------------------------------------------------------------------------------------------------------------------------------------------------------------------------------------------------------------------------------------------------------------------------------------------------------------------------------------------------------------------------------------------------------------------------------------------------------------------------------------------------------------------------------------------------------------------------------------------------------------------------------------------------------------------------------------------------------------------------------------------------------------------------------------------------------------------------------------------------------------------------------------------------------------------------------------------------------------------------------------------------------------------------------------------------------------------------------------------------------------------------------------------------------------------------------------------------------------------------------------------------------------------------------------------------------------------------------------------------------------------------------------------------------------------------------------------------------------------------------------------------------------------------------------------------------------------------------------------------------------------------------------------------------------------------------------------------------------------------------------------------------------------------------------------------------------------------------------------------------------------------------------------------------------------------------------------------------------------------------------------------------------------------------------------------------------------------------------------------------------------------------------------------------------------------------------------------------------------------------------------------------------------------------------------------------------------------------------------------------------------------------------------------------------------------------------------------------------------------------------------------------------------------------------------------------------------------------------------------------------------------------------------------------------------------------------------------------------------------------------------------------------------------------------------------------------------------------------------------------------------------------------------------------------------------------------------------------------------------------------------------------------------------------------------------------------------------------------------------------------------------------------------------------------------------------------------------------------------------------------------------------------------------------------------------------------------------------------------------------------------------------------------------------------------------------------------------------------------------------------------------------------------------------------------------------------------------------------------------------------------------------------------------------------------------------------------------------------------------------------------------------------------------------------------------------------------------------------------------------------------------------------------------------------------------------------------------------------------------------------------------------------------------------------------------------------------------------------------------------------------------------------------------------------------------------------------------------------------------------------------------------------------------------------------------------------------------------------------------------------------------------------------------------------------------------------------------------------------------------------------------------------------------------------------------------------------------------------------------------------------------------------------------------------------------------------------------------------------------------------------------------------------------------------------------------------------------------------------------------------------------------------------------------------------------------------------------------------------------------------------------------------------------------------------------------------------------------------------------------------------------------------------------------------------------------------------------------------------------------------------------------------------------------------------------------------------------------------------------------------------------------------------------------------------------------------------------------------------------------------------------------------------------------------------------------------------------------------------------------------------------------------------------------------------------------------------------------------------------------------------------------------------------------------------------------------------------------------------------------------------------------------------------------------------------------------------------------------------------------------------------------------------------------------------------------------------------------------------------------------------------------------------------------------------------------------------------------------------------------------------------------------------------------------------------------------------------------------------------------------------------------------------------------------------------------------------------------------------------------------------------------------------------------------------------------------------------------------------------------------------------------------------------------------------------------------------------------------------------------------------------------------------------------------------------------------------------------------------------------------------------------------------------------------------------------------------------------------------------------------------------------------------------------------------------------------------------------------------------------------------------------------------------------------------------------------------------------------------------------------------------------------------------------------------------------------------------------------------------------------------------------------------------------------------------------------------------------------------------------------------------------------------------------------------------------------------------------------------------------------------------------------------------------------------------------------------------------------------------------------------------------------------------------------------------------------------------------------------------------------------------------------------------------------------------------------------------------------------------------------------------------------------------------------------------------------------------------------------------------------------------------------------------------------------------------------------------------------------------------------------------------------------------------------------------------------------------------------------------------------------------------------------------------------------------------------------------------------------------------------------------------------------------------------------------------------------------------------------------------------------------------------------------------------------------------------------------------------------------------------------------------------------------------------------------------------------------------------------------------------------------------------------------------------------------------------------------------------------------------------------------------------------------------------------------------------------------------------------------------------------------------------------------------------------------------------------------------------------------------------------------------------------------------------------------------------------------------------------------------------------------------------------------------------------------------------------------------------------------------------------------------------------------------------------------------------------------------------------------------------------------------------------------------------------------------------------------------------------------------------------------------------------------------------------------------------------------------------------------------------------------------------------------------------------------------------------------------------------------------------------------------------------------------------------------------------------------------------------------------------------------------------------------------------------------------------------------------------------------------------------------------------------------------------------------------------------------------------------------------------------------------------------------------------------------------------------------------+\n",
      "|1.0  |We had dinner at the Bellagio Buffet last night. The service was OK. Our server was great but kind of forgot about us towards the end of our visit. The food was cold. The only good thing there was the crab legs because they're suppose to be cold and the tacos because it was freshly made. The food was under a single lamp that didn't heat the food at all. We let the server know that the food was cold and he told the manager that was in charge. All she did was come over to ask what the problem was and said she was going to talk to the chief. Have no idea what actually happened though because we didn't see her after that. Half the buffet was closed as well so there wasn't that many options. I must say i rather go to the Rio buffet. For a high end casino this was a horrible experience.                                                                                                                                                                                                                                                                                                                                                                                                                                                                                                                                                                                                                                                                                                                                                                                                                                                                                                                                                                                                                                                                                                                                                                                                                                                                                                                                                                                                                                                                                                                                                                                                                                                                                                                                                                                                                                                                                                                                                                                                                                                                                                                                                                                                                                                                                                                                                  |[we, had, dinner, at, the, bellagio, buffet, last, night, the, service, was, ok, our, server, was, great, but, kind, of, forgot, about, us, towards, the, end, of, our, visit, the, food, was, cold, the, only, good, thing, there, was, the, crab, legs, because, they, re, suppose, to, be, cold, and, the, tacos, because, it, was, freshly, made, the, food, was, under, a, single, lamp, that, didn, t, heat, the, food, at, all, we, let, the, server, know, that, the, food, was, cold, and, he, told, the, manager, that, was, in, charge, all, she, did, was, come, over, to, ask, what, the, problem, was, and, said, she, was, going, to, talk, to, the, chief, have, no, idea, what, actually, happened, though, because, we, didn, t, see, her, after, that, half, the, buffet, was, closed, as, well, so, there, wasn, t, that, many, options, i, must, say, i, rather, go, to, the, rio, buffet, for, a, high, end, casino, this, was, a, horrible, experience]                                                                                                                                                                                                                                                                                                                                                                                                                                                                                                                                                                                                                                                                                                                                                                                                                                                                                                                                                                                                                                                                                                                                                                                                                                                                                                                                                                                                                                                                                                                                                                                                                                                                                                                                                                                                                                                                                                                                                                                                                                                                                                                                                                                                                                                                                                                                                                                                                                                                                                                                                                                                                                                                                                              |[we had, had dinner, dinner at, at the, the bellagio, bellagio buffet, buffet last, last night, night the, the service, service was, was ok, ok our, our server, server was, was great, great but, but kind, kind of, of forgot, forgot about, about us, us towards, towards the, the end, end of, of our, our visit, visit the, the food, food was, was cold, cold the, the only, only good, good thing, thing there, there was, was the, the crab, crab legs, legs because, because they, they re, re suppose, suppose to, to be, be cold, cold and, and the, the tacos, tacos because, because it, it was, was freshly, freshly made, made the, the food, food was, was under, under a, a single, single lamp, lamp that, that didn, didn t, t heat, heat the, the food, food at, at all, all we, we let, let the, the server, server know, know that, that the, the food, food was, was cold, cold and, and he, he told, told the, the manager, manager that, that was, was in, in charge, charge all, all she, she did, did was, was come, come over, over to, to ask, ask what, what the, the problem, problem was, was and, and said, said she, she was, was going, going to, to talk, talk to, to the, the chief, chief have, have no, no idea, idea what, what actually, actually happened, happened though, though because, because we, we didn, didn t, t see, see her, her after, after that, that half, half the, the buffet, buffet was, was closed, closed as, as well, well so, so there, there wasn, wasn t, t that, that many, many options, options i, i must, must say, say i, i rather, rather go, go to, to the, the rio, rio buffet, buffet for, for a, a high, high end, end casino, casino this, this was, was a, a horrible, horrible experience]                                                                                                                                                                                                                                                                                                                                                                                                                                                                                                                                                                                                                                                                                                                                                                                                                                                                                                                                                                                                                                                                                                                                                                                                                                                                                                                                                                                                                                                                                                                                                                                                                                                                                                                                                                                                                                                                                                                                                                                                                                                                                                                                                                                                                                                                                                                                                                                                                                                                                                                                                                                                                                                                                                                                                                                                                                                                                                                                                                                                                                                                                                                                                                                                                                                                                                                                                                                                                                                                                                                                                                                                                                                                                                                                                                                                                                                                                                                                                                                                                                                                                                                                                                                                                                                                                                                                                                                                                                                                                                                                                                                                                                                                                                                                                                                                                                                                                                                                                                  |(10000,[26,140,166,177,284,339,619,781,966,973,983,1075,1080,1157,1182,1183,1292,1386,1496,1698,1733,1793,1795,1907,1994,2008,2031,2104,2161,2241,2306,2313,2320,2370,2484,2608,2783,2790,2823,2843,2886,3102,3206,3281,3289,3346,3378,3392,3476,3532,3643,3798,3869,3900,3933,4180,4314,4320,4364,4493,4586,4706,4729,4745,4894,4915,4951,4975,5011,5020,5025,5063,5162,5183,5206,5250,5258,5287,5431,5483,5501,5532,5573,5633,5825,5842,5948,6078,6108,6174,6183,6236,6242,6300,6336,6438,6453,6471,6478,6633,6641,6731,6762,6809,6935,6943,6947,6967,7102,7327,7384,7504,7603,7667,7675,7694,7727,7765,7790,7859,7888,7982,8003,8018,8063,8146,8177,8223,8273,8468,8653,8773,8801,8885,9075,9126,9132,9238,9386,9423,9478,9528,9645,9660,9686,9789,9813,9839,9926,9956],[1.0,1.0,1.0,1.0,1.0,1.0,1.0,1.0,1.0,1.0,1.0,1.0,1.0,1.0,1.0,1.0,1.0,1.0,1.0,1.0,4.0,1.0,1.0,1.0,1.0,2.0,1.0,1.0,1.0,1.0,1.0,1.0,1.0,1.0,1.0,1.0,1.0,1.0,1.0,1.0,1.0,1.0,1.0,1.0,1.0,1.0,1.0,1.0,1.0,1.0,1.0,1.0,1.0,1.0,1.0,1.0,1.0,1.0,1.0,1.0,1.0,1.0,1.0,1.0,2.0,1.0,1.0,1.0,1.0,1.0,1.0,1.0,1.0,1.0,1.0,1.0,1.0,1.0,1.0,1.0,1.0,1.0,2.0,1.0,1.0,1.0,1.0,1.0,1.0,1.0,1.0,1.0,1.0,1.0,1.0,1.0,1.0,1.0,1.0,1.0,2.0,1.0,1.0,1.0,1.0,1.0,1.0,1.0,1.0,1.0,1.0,1.0,3.0,1.0,1.0,1.0,1.0,1.0,1.0,1.0,1.0,1.0,1.0,1.0,1.0,1.0,1.0,1.0,1.0,2.0,1.0,1.0,1.0,1.0,1.0,1.0,1.0,1.0,1.0,1.0,1.0,1.0,1.0,1.0,1.0,1.0,1.0,2.0,1.0,1.0])                                                                                                                                                                                                                                                                                                                                                                                                                                                                                                                                                                                                                                                                                                                                                                                                                                                                                                                                                                                                                                                                                                                                                                                                                                                                                                                                                                                                                                                                                                                                                                                                                                                                                                                                                                                                                                                                                                                                                                                                                                                                                                                                                                                                                                                                                                                                                                                                                                                                                                                                                                                                                                                                                                                                                                                                                                                                                                                                                                                                                                                                                                                                                                                                                                                                                                                                                                                                                                                                                                                      |(10000,[26,140,166,177,284,339,619,781,966,973,983,1075,1080,1157,1182,1183,1292,1386,1496,1698,1733,1793,1795,1907,1994,2008,2031,2104,2161,2241,2306,2313,2320,2370,2484,2608,2783,2790,2823,2843,2886,3102,3206,3281,3289,3346,3378,3392,3476,3532,3643,3798,3869,3900,3933,4180,4314,4320,4364,4493,4586,4706,4729,4745,4894,4915,4951,4975,5011,5020,5025,5063,5162,5183,5206,5250,5258,5287,5431,5483,5501,5532,5573,5633,5825,5842,5948,6078,6108,6174,6183,6236,6242,6300,6336,6438,6453,6471,6478,6633,6641,6731,6762,6809,6935,6943,6947,6967,7102,7327,7384,7504,7603,7667,7675,7694,7727,7765,7790,7859,7888,7982,8003,8018,8063,8146,8177,8223,8273,8468,8653,8773,8801,8885,9075,9126,9132,9238,9386,9423,9478,9528,9645,9660,9686,9789,9813,9839,9926,9956],[3.75713731354315,4.902921417301232,4.307003704507773,3.557558834245153,2.124149421218475,4.395497356840895,4.039404182379201,4.302818250876784,3.1667373752444252,2.522340386473532,3.9540297449875874,1.686190748779419,4.199290739446428,3.3829035713519695,4.107198625778198,4.822518479076249,3.1970562145388874,2.6058844737491627,3.199611446166081,3.4062877375595173,5.036244282033918,1.9104732189484304,4.383235861481632,3.8201442271548567,4.893017462184287,3.0482274603262005,2.7510775224818236,3.7004133854651102,3.7828776683451095,4.079706828592762,1.5484875662936357,4.547476738024541,4.840507516912322,3.530036230796308,4.629093656351358,5.353443910975145,3.9710616478143805,3.6775458063929256,4.402394545735815,4.895338995438207,3.0462758585388787,4.954276343071502,3.64965673460519,4.216088037908045,4.680715073178396,4.769390024676709,3.0019155496239684,4.457290267467733,3.8625702303863183,3.7277854861747812,4.305552910346638,3.304551556155858,2.526383098150766,5.059808076947364,3.9136022519382254,2.704266689555484,2.8128153402537364,3.0968233958883657,4.106406337343778,2.272938255142167,3.9250972605517953,2.742638081789741,3.9475901362234764,3.567673863015265,1.9911512185483544,4.5285756571023414,3.6154709899103854,3.899229064530055,1.5845394165639786,4.206997066206793,1.0886571372712996,2.8152076858923563,4.512201489350776,3.7590007259895466,4.428827802803971,4.160370900502139,4.245838344713139,4.487359136028956,4.278223595870856,4.158422396058236,4.437061313775492,5.146321445958574,4.864628828274345,4.183483541509569,3.490906811621111,4.34783242056484,3.4981368799822916,3.260485952620409,4.995483619815748,2.6036497702404433,4.525560276387567,4.201465756616496,4.739861065312418,3.0987972549409974,4.260051161329161,4.730947909003245,3.8723406022572378,3.671461029509732,3.841689226064523,5.194906254067881,3.2483523612733936,4.136419308174169,2.5209333456266294,3.7562069078191658,3.4288231556945834,4.180067654328162,4.7835783189259455,4.317870732217987,4.619346126802104,4.433759770057538,4.876915906728512,4.212265628079059,5.887489199223474,3.068047501263544,3.337347298958484,4.283409432903222,4.50549005476279,2.749071367335089,4.327374326603998,5.098563145105448,3.8580294589104125,3.492834488653979,4.417593765469212,4.182770935479271,4.5642351730500605,3.250509261352506,4.004112822133559,2.9128359195702793,4.229732028299642,7.7415501701120215,2.487483454758661,4.281992444553086,4.792975412352129,4.174965602444266,3.2854363449917923,2.0376806649790624,5.193339469571887,1.9662935881881174,2.039099235131585,2.4737449415447172,3.417028130068753,4.554683605416374,4.1867680856977065,4.64299210917051,4.098386837321308,3.842398553752976,4.826578573975548,8.352194288581202,1.6964168842355776,3.6690715421123503])                                                                                                                                                                                                                                                                                                                                                                                                                                                                                                                                                                                                                                                                                                                                                                                                                                                                                                                                                                                                                                                                                                                                                                                                                                                                                                                                                                                                                                                                                                                                                                                                                                                                                                                                                                                                                                                                                                                                                                                                                                                                                                                                                                                                                                                                                                                                                                                                                                                                                                                                                                                                                                                                                                                                                                                                                                                                                                                                                                                                                                                                                                                                                                                                                                                                                                                                                                                                                                                                                                                                                                                                                                                                                                                                                                                                                                                                                                                                                                                                                                                                                                                                                                                                                                                                                                                                                                                                                                                                                                                                                                                                                                                                                                                                                                                                                                                                                                                                                                                                                                                                                                                                                                                                                                                                                                                                                                                                                                                                                                                                                                                                                                                                                                                                                                                                                                                                                                                                                                                                                                                                                                                                                                                                                                                                                                                                                                                                                                                                                                                                                                                                                                                                                                                                                                                                                                                                                                                                                                                                                                                                                                                                                                                                                                                                                                                                                                                                                                                                                                                                                                                                                                                                                                                                                                                                                                                                                                                                                                                                                                                                                                                                                                                                                                                                                                                                                                                                                                                                                                                                                                                                                                                                                                                                                                                                                                                                                                                                                                                                                                                                                                                                                                 |\n",
      "|1.0  |I am so blown away by this sophisticated & beautiful hotel. One of the best in Las Vegas. The decor is breathe taking, and this place always smell like a magical garden. With so many top notch restaurants, spa services, shows, and clubs to choose from. It's vegas luxury! The last time I stayed here, July 2011, it was such a BIG disappointment. There was a total of 8 of us. One of the bed broke and fell flat to the floor (no, there were no foul play)! 6 out 8 of us left with some kind of bug bite that looks like a terrible case of eczema/rash! The mechanic curtain didn't work. The main T.V. didn't work. Actually, disappointed is an understatement, WE WERE DISGUSTED! How can this 5star resort & hotel failed us so miserably!!!!!? \n",
      "\n",
      "(please view pictures of rash)                                                                                                                                                                                                                                                                                                                                                                                                                                                                                                                                                                                                                                                                                                                                                                                                                                                                                                                                                                                                                                                                                                                                                                                                                                                                                                                                                                                                                                                                                                                                                                                                                                                                                                                                                                                                                                                                                                                                                                                                                                                                                                                                                                                                                                                                                                                                                                        |[i, am, so, blown, away, by, this, sophisticated, beautiful, hotel, one, of, the, best, in, las, vegas, the, decor, is, breathe, taking, and, this, place, always, smell, like, a, magical, garden, with, so, many, top, notch, restaurants, spa, services, shows, and, clubs, to, choose, from, it, s, vegas, luxury, the, last, time, i, stayed, here, july, 2011, it, was, such, a, big, disappointment, there, was, a, total, of, 8, of, us, one, of, the, bed, broke, and, fell, flat, to, the, floor, no, there, were, no, foul, play, 6, out, 8, of, us, left, with, some, kind, of, bug, bite, that, looks, like, a, terrible, case, of, eczema, rash, the, mechanic, curtain, didn, t, work, the, main, t, v, didn, t, work, actually, disappointed, is, an, understatement, we, were, disgusted, how, can, this, 5star, resort, hotel, failed, us, so, miserably, please, view, pictures, of, rash]                                                                                                                                                                                                                                                                                                                                                                                                                                                                                                                                                                                                                                                                                                                                                                                                                                                                                                                                                                                                                                                                                                                                                                                                                                                                                                                                                                                                                                                                                                                                                                                                                                                                                                                                                                                                                                                                                                                                                                                                                                                                                                                                                                                                                                                                                                                                                                                                                                                                                                                                                                                                                                                                                                                                                                               |[i am, am so, so blown, blown away, away by, by this, this sophisticated, sophisticated beautiful, beautiful hotel, hotel one, one of, of the, the best, best in, in las, las vegas, vegas the, the decor, decor is, is breathe, breathe taking, taking and, and this, this place, place always, always smell, smell like, like a, a magical, magical garden, garden with, with so, so many, many top, top notch, notch restaurants, restaurants spa, spa services, services shows, shows and, and clubs, clubs to, to choose, choose from, from it, it s, s vegas, vegas luxury, luxury the, the last, last time, time i, i stayed, stayed here, here july, july 2011, 2011 it, it was, was such, such a, a big, big disappointment, disappointment there, there was, was a, a total, total of, of 8, 8 of, of us, us one, one of, of the, the bed, bed broke, broke and, and fell, fell flat, flat to, to the, the floor, floor no, no there, there were, were no, no foul, foul play, play 6, 6 out, out 8, 8 of, of us, us left, left with, with some, some kind, kind of, of bug, bug bite, bite that, that looks, looks like, like a, a terrible, terrible case, case of, of eczema, eczema rash, rash the, the mechanic, mechanic curtain, curtain didn, didn t, t work, work the, the main, main t, t v, v didn, didn t, t work, work actually, actually disappointed, disappointed is, is an, an understatement, understatement we, we were, were disgusted, disgusted how, how can, can this, this 5star, 5star resort, resort hotel, hotel failed, failed us, us so, so miserably, miserably please, please view, view pictures, pictures of, of rash]                                                                                                                                                                                                                                                                                                                                                                                                                                                                                                                                                                                                                                                                                                                                                                                                                                                                                                                                                                                                                                                                                                                                                                                                                                                                                                                                                                                                                                                                                                                                                                                                                                                                                                                                                                                                                                                                                                                                                                                                                                                                                                                                                                                                                                                                                                                                                                                                                                                                                                                                                                                                                                                                                                                                                                                                                                                                                                                                                                                                                                                                                                                                                                                                                                                                                                                                                                                                                                                                                                                                                                                                                                                                                                                                                                                                                                                                                                                                                                                                                                                                                                                                                                                                                                                                                                                                                                                                                                                                                                                                                                                                                                                                                                                                                                                                                                                                                                                                                                                                                                                                            |(10000,[16,121,134,229,334,461,519,632,689,700,730,838,868,933,1075,1085,1108,1208,1288,1343,1560,1562,1564,1806,1815,1866,1899,2008,2138,2179,2286,2288,2327,2366,2372,2438,2450,2711,2888,2889,2922,2945,3097,3212,3238,3310,3316,3514,3555,3813,3815,3916,3973,3991,4011,4078,4191,4219,4308,4478,4493,4515,4556,4614,4677,4785,4894,4905,5005,5030,5063,5119,5136,5280,5466,5649,5739,5755,5813,5822,6021,6281,6301,6304,6608,6641,6779,6916,6981,7351,7363,7365,7372,7419,7523,7600,7692,7728,7828,8107,8111,8134,8152,8172,8181,8263,8312,8348,8364,8433,8504,8562,8704,8749,8757,8815,8918,8990,9080,9086,9121,9126,9298,9440,9441,9471,9486,9523,9609,9752,9858,9877,9942],[1.0,1.0,1.0,1.0,1.0,1.0,1.0,2.0,1.0,1.0,1.0,1.0,2.0,1.0,1.0,1.0,1.0,1.0,1.0,1.0,2.0,1.0,1.0,1.0,2.0,1.0,1.0,1.0,1.0,1.0,1.0,1.0,1.0,1.0,1.0,1.0,1.0,1.0,1.0,1.0,1.0,1.0,1.0,1.0,1.0,1.0,2.0,3.0,1.0,1.0,1.0,1.0,1.0,1.0,1.0,1.0,1.0,1.0,1.0,1.0,1.0,1.0,1.0,1.0,1.0,1.0,1.0,1.0,1.0,1.0,1.0,1.0,1.0,1.0,1.0,1.0,1.0,1.0,1.0,1.0,1.0,1.0,1.0,1.0,1.0,2.0,1.0,1.0,1.0,1.0,1.0,1.0,1.0,1.0,1.0,1.0,1.0,2.0,1.0,1.0,1.0,1.0,1.0,1.0,1.0,1.0,1.0,1.0,1.0,1.0,1.0,1.0,1.0,1.0,1.0,1.0,1.0,1.0,1.0,1.0,1.0,2.0,1.0,1.0,1.0,1.0,2.0,1.0,1.0,1.0,1.0,1.0,1.0])                                                                                                                                                                                                                                                                                                                                                                                                                                                                                                                                                                                                                                                                                                                                                                                                                                                                                                                                                                                                                                                                                                                                                                                                                                                                                                                                                                                                                                                                                                                                                                                                                                                                                                                                                                                                                                                                                                                                                                                                                                                                                                                                                                                                                                                                                                                                                                                                                                                                                                                                                                                                                                                                                                                                                                                                                                                                                                                                                                                                                                                                                                                                                                                                                                                                                                                                                                                                                                                                                                                                                                                                                                                                                  |(10000,[16,121,134,229,334,461,519,632,689,700,730,838,868,933,1075,1085,1108,1208,1288,1343,1560,1562,1564,1806,1815,1866,1899,2008,2138,2179,2286,2288,2327,2366,2372,2438,2450,2711,2888,2889,2922,2945,3097,3212,3238,3310,3316,3514,3555,3813,3815,3916,3973,3991,4011,4078,4191,4219,4308,4478,4493,4515,4556,4614,4677,4785,4894,4905,5005,5030,5063,5119,5136,5280,5466,5649,5739,5755,5813,5822,6021,6281,6301,6304,6608,6641,6779,6916,6981,7351,7363,7365,7372,7419,7523,7600,7692,7728,7828,8107,8111,8134,8152,8172,8181,8263,8312,8348,8364,8433,8504,8562,8704,8749,8757,8815,8918,8990,9080,9086,9121,9126,9298,9440,9441,9471,9486,9523,9609,9752,9858,9877,9942],[4.838035327766933,4.152599559697649,4.089781829856726,3.771764859866312,4.663978280822873,2.070345416406969,3.987567892618451,5.700960954879803,4.641638623739435,4.250248662864815,2.1974115204473668,4.051700182792511,8.851469846105823,3.2047415808610076,1.686190748779419,3.7873767904703697,2.103952896300283,3.6481531005402514,4.474116451379294,3.5055643523831774,2.0956439449112767,4.29865024227788,3.4309033443326347,3.5950792553796544,8.720350250461658,3.824814578963972,4.614946647642619,1.5241137301631003,4.8532394907273675,3.8457493209638214,4.324251121961198,3.1802384630715315,3.0147701023981104,4.270883826838406,5.0560480314988,4.60729382796047,4.640061869273784,4.834748554060311,5.119790781549075,4.776587999199035,4.008531531180198,3.7986654433215223,3.081408004841648,3.1483394728309384,4.210506354791412,3.5897109627053725,8.71729032636286,9.79337750119546,5.063926133556282,4.2758752581967485,2.390085836935242,1.352402662937258,3.995215438567415,4.874921319943865,5.300658849715046,4.397614506537847,4.8032562462811965,4.334478858758705,4.755652846047181,2.6130929897045534,2.272938255142167,4.645251997137948,4.613630569365359,3.7217475279401016,4.650469203028882,2.8844727773347114,0.9955756092741772,3.773655755768661,4.356947946209188,5.221119033678963,2.8152076858923563,4.503524645325087,4.484080128365373,4.516568308517117,4.781502014001465,4.62998452500716,4.734652074246125,4.952121501541991,4.186196085110111,1.7529840993890615,4.053451277673986,4.792451028491135,4.490261334060965,4.99067822854081,4.841883600795356,3.2483523612733936,3.33027625456167,4.895338995438207,4.061369373464211,3.3333789186476155,4.857986114186282,4.248877860731036,2.8450441532443413,3.995097339954936,4.5062773014084465,5.050603989471997,3.265597276787956,5.455328363423549,3.3747418222892827,3.4982087268048967,1.2682051427434393,4.420480811862821,4.640737316783421,4.039774575617586,4.149425172931555,5.138139920217272,3.415836392639571,4.509432500239783,4.354915080864018,4.365291970780078,4.093032596648949,3.19897202588533,3.44613258042616,4.7900946980384,5.335687924342517,4.109844129966621,4.378026611986812,4.791926919464462,4.41112822570457,4.5885210250655675,4.956435837972111,4.075361329958125,4.379066293244907,5.030448789221163,3.9165455145415162,4.59603098418977,4.129796118322461,3.326214781394622,4.782799199291675,3.8132285702701907,3.885482777427066,4.8532394907273675,3.475477246545873])                                                                                                                                                                                                                                                                                                                                                                                                                                                                                                                                                                                                                                                                                                                                                                                                                                                                                                                                                                                                                                                                                                                                                                                                                                                                                                                                                                                                                                                                                                                                                                                                                                                                                                                                                                                                                                                                                                                                                                                                                                                                                                                                                                                                                                                                                                                                                                                                                                                                                                                                                                                                                                                                                                                                                                                                                                                                                                                                                                                                                                                                                                                                                                                                                                                                                                                                                                                                                                                                                                                                                                                                                                                                                                                                                                                                                                                                                                                                                                                                                                                                                                                                                                                                                                                                                                                                                                                                                                                                                                                                                                                                                                                                                                                                                                                                                                                                                                                                                                                                                                                                                                                                                                                                                                                                                                                                                                                                                                                                                                                                                                                                                                                                                                                                                                                                                                                                                                                                                                                                                                                                                                                                                                                                                                                                                                                                                                                                                                                                                                                                                                                                                                                                                                                                                                                                                                                                                                                                                                                                                                                                                                                                                                                                                                                                                                                                                                                                                                                                                                                                                                                                                                                                                                                                                                                                                                                                                                                                                                                                                                                                                                                                                                                                                                                                                                                                                                                                                                                                                                                                                                                                                                                                                                                                                                                                                                                                                                                                                                                                                                                                                                                                                                                                                                                                                                                                                                                                                                                                                                                                                                                                     |\n",
      "|1.0  |Worse than before.\n",
      "Overpriced, and HORRIBLE service.\n",
      "\n",
      "When a group says \"We're really thirsty. Could you please bring water while we look at the menu?\" You'd better frickin' BRING IT! \n",
      "\n",
      "Our waiter was pushy, rude, and S...L...O...W...\n",
      "When we said that we weren't interested in hearing the specials, he read them anyway. \n",
      "\n",
      "He constantly tried to upsell us. Every order placed was followed by a pause, and \"Well, you know what would be really good...?\" followed by a big description of a more expensive item or an add-on.\n",
      "\n",
      "The desperately needed water took almost twenty minutes to get to our table.\n",
      "\n",
      "The table next to us, who was seated at least five minutes after us, received their water, drinks, and first course before we even got our water. \n",
      "\n",
      "Do I sound like I'm obsessing about water? In the desert, dehydration is no joke, and it's indicative of the quality (bad - very very bad) of service that we received.\n",
      "\n",
      "The sushi was good, but not great.\n",
      "The main courses were simple but extremely expensive.\n",
      "All sides were extra.\n",
      "We spent about $250 for three people on very basic food and a glass of wine each.\n",
      "\n",
      "Never again.\n",
      "Never never never.                                                                                                                                                                                                                                                                                                                                                                                                                                                                                                                                                                                                                                                                                                                                                                                                                                                                                                                                                                                                                                                                                                                                                                                                                                                                                                                                                                                                                                                                                                                                                                                                                                                                                                                                                                                                                                                                                                                                                                                   |[worse, than, before, overpriced, and, horrible, service, when, a, group, says, we, re, really, thirsty, could, you, please, bring, water, while, we, look, at, the, menu, you, d, better, frickin, bring, it, our, waiter, was, pushy, rude, and, s, l, o, w, when, we, said, that, we, weren, t, interested, in, hearing, the, specials, he, read, them, anyway, he, constantly, tried, to, upsell, us, every, order, placed, was, followed, by, a, pause, and, well, you, know, what, would, be, really, good, followed, by, a, big, description, of, a, more, expensive, item, or, an, add, on, the, desperately, needed, water, took, almost, twenty, minutes, to, get, to, our, table, the, table, next, to, us, who, was, seated, at, least, five, minutes, after, us, received, their, water, drinks, and, first, course, before, we, even, got, our, water, do, i, sound, like, i, m, obsessing, about, water, in, the, desert, dehydration, is, no, joke, and, it, s, indicative, of, the, quality, bad, very, very, bad, of, service, that, we, received, the, sushi, was, good, but, not, great, the, main, courses, were, simple, but, extremely, expensive, all, sides, were, extra, we, spent, about, 250, for, three, people, on, very, basic, food, and, a, glass, of, wine, each, never, again, never, never, never]                                                                                                                                                                                                                                                                                                                                                                                                                                                                                                                                                                                                                                                                                                                                                                                                                                                                                                                                                                                                                                                                                                                                                                                                                                                                                                                                                                                                                                                                                                                                                                                                                                                                                                                                                                                                                                                                                                                                                                                                                                                                                                                                                                                                                                                                                                                                                      |[worse than, than before, before overpriced, overpriced and, and horrible, horrible service, service when, when a, a group, group says, says we, we re, re really, really thirsty, thirsty could, could you, you please, please bring, bring water, water while, while we, we look, look at, at the, the menu, menu you, you d, d better, better frickin, frickin bring, bring it, it our, our waiter, waiter was, was pushy, pushy rude, rude and, and s, s l, l o, o w, w when, when we, we said, said that, that we, we weren, weren t, t interested, interested in, in hearing, hearing the, the specials, specials he, he read, read them, them anyway, anyway he, he constantly, constantly tried, tried to, to upsell, upsell us, us every, every order, order placed, placed was, was followed, followed by, by a, a pause, pause and, and well, well you, you know, know what, what would, would be, be really, really good, good followed, followed by, by a, a big, big description, description of, of a, a more, more expensive, expensive item, item or, or an, an add, add on, on the, the desperately, desperately needed, needed water, water took, took almost, almost twenty, twenty minutes, minutes to, to get, get to, to our, our table, table the, the table, table next, next to, to us, us who, who was, was seated, seated at, at least, least five, five minutes, minutes after, after us, us received, received their, their water, water drinks, drinks and, and first, first course, course before, before we, we even, even got, got our, our water, water do, do i, i sound, sound like, like i, i m, m obsessing, obsessing about, about water, water in, in the, the desert, desert dehydration, dehydration is, is no, no joke, joke and, and it, it s, s indicative, indicative of, of the, the quality, quality bad, bad very, very very, very bad, bad of, of service, service that, that we, we received, received the, the sushi, sushi was, was good, good but, but not, not great, great the, the main, main courses, courses were, were simple, simple but, but extremely, extremely expensive, expensive all, all sides, sides were, were extra, extra we, we spent, spent about, about 250, 250 for, for three, three people, people on, on very, very basic, basic food, food and, and a, a glass, glass of, of wine, wine each, each never, never again, again never, never never, never never]                                                                                                                                                                                                                                                                                                                                                                                                                                                                                                                                                                                                                                                                                                                                                                                                                                                                                                                                                                                                                                                                                                                                                                                                                                                                                                                                                                                                                                                                                                                                                                                                                                                                                                                                                                                                                                                                                                                                                                                                                                                                                                                                                                                                                                                                                                                                                                                                                                                                                                                                                                                                                                                                                                                                                                                                                                                                                                                                                                                                                                                                                                                                                                                                                                                                                                                                                                                                                                                                                                                                                                                                                                                                                                                                                                                                                                                                                                                                                                                                                                                                                                                                                                                                                                                                                              |(10000,[15,26,69,84,92,97,189,191,205,261,281,353,355,566,607,633,734,737,839,866,1026,1058,1211,1225,1343,1345,1427,1516,1531,1542,1552,1560,1617,1646,1722,1825,1884,1959,1971,2014,2050,2140,2141,2168,2184,2257,2277,2288,2325,2342,2423,2448,2557,2558,2561,2590,2642,2717,2814,2821,2824,2837,2848,2894,2990,3080,3107,3153,3163,3226,3284,3298,3342,3370,3503,3609,3631,3675,3677,3731,3783,3835,3875,3891,3916,3923,3934,3998,4007,4030,4106,4114,4141,4213,4264,4304,4323,4674,4742,4793,4816,4893,4929,4948,4980,5115,5171,5207,5341,5353,5360,5459,5468,5489,5534,5566,5594,5682,5722,5780,5814,5829,5859,5875,5912,6034,6044,6086,6087,6097,6194,6344,6405,6409,6581,6593,6728,6863,6876,6976,6993,7053,7130,7193,7202,7224,7241,7242,7294,7326,7381,7534,7609,7654,7764,7784,7790,7811,7854,7917,7943,7963,8107,8119,8199,8240,8266,8324,8335,8336,8402,8491,8540,8553,8557,8583,8636,8657,8765,8839,8886,9075,9093,9165,9359,9392,9446,9476,9478,9489,9515,9556,9570,9588,9590,9759,9821,9842,9880,9900,9926],[1.0,1.0,1.0,1.0,1.0,1.0,1.0,1.0,1.0,1.0,1.0,1.0,2.0,1.0,1.0,1.0,1.0,1.0,1.0,1.0,1.0,1.0,2.0,1.0,1.0,1.0,1.0,1.0,1.0,1.0,1.0,1.0,1.0,1.0,1.0,1.0,1.0,1.0,1.0,1.0,1.0,1.0,1.0,1.0,1.0,1.0,1.0,1.0,1.0,1.0,1.0,1.0,1.0,1.0,1.0,2.0,1.0,1.0,1.0,1.0,1.0,2.0,1.0,1.0,1.0,1.0,1.0,1.0,1.0,1.0,1.0,1.0,1.0,1.0,2.0,1.0,1.0,1.0,1.0,1.0,1.0,1.0,1.0,1.0,1.0,1.0,1.0,1.0,1.0,1.0,1.0,1.0,1.0,1.0,1.0,1.0,1.0,1.0,1.0,1.0,1.0,1.0,1.0,1.0,1.0,1.0,2.0,1.0,1.0,1.0,1.0,1.0,1.0,1.0,1.0,1.0,1.0,1.0,1.0,1.0,1.0,1.0,1.0,1.0,1.0,1.0,1.0,1.0,1.0,1.0,1.0,1.0,1.0,1.0,1.0,1.0,1.0,1.0,1.0,1.0,1.0,1.0,1.0,1.0,1.0,1.0,1.0,1.0,1.0,1.0,1.0,1.0,1.0,1.0,1.0,1.0,1.0,1.0,1.0,1.0,1.0,1.0,1.0,1.0,1.0,1.0,1.0,1.0,1.0,1.0,1.0,1.0,1.0,1.0,1.0,1.0,1.0,1.0,1.0,1.0,1.0,1.0,1.0,1.0,1.0,1.0,1.0,1.0,1.0,1.0,1.0,1.0,1.0,1.0,1.0,1.0,1.0,1.0,1.0,1.0,1.0])                                                                                                                                                                                                                                                                                                                                                                                                                                                                                                                                                                                                                                                                                                                                                                                                                                                                                                                                                                                                                                                                                                                                                                                                                                                                                                                                                                                                                                                                                                                                                                                                                                                                                                                                                                                                                                                                                                                                                                                                                                                                                                                                                                                                                                                                                                                                                                                                                                                                                                                                                                                                                                                                                                                                                                                                                                                                                                                                                                                                                                                         |(10000,[15,26,69,84,92,97,189,191,205,261,281,353,355,566,607,633,734,737,839,866,1026,1058,1211,1225,1343,1345,1427,1516,1531,1542,1552,1560,1617,1646,1722,1825,1884,1959,1971,2014,2050,2140,2141,2168,2184,2257,2277,2288,2325,2342,2423,2448,2557,2558,2561,2590,2642,2717,2814,2821,2824,2837,2848,2894,2990,3080,3107,3153,3163,3226,3284,3298,3342,3370,3503,3609,3631,3675,3677,3731,3783,3835,3875,3891,3916,3923,3934,3998,4007,4030,4106,4114,4141,4213,4264,4304,4323,4674,4742,4793,4816,4893,4929,4948,4980,5115,5171,5207,5341,5353,5360,5459,5468,5489,5534,5566,5594,5682,5722,5780,5814,5829,5859,5875,5912,6034,6044,6086,6087,6097,6194,6344,6405,6409,6581,6593,6728,6863,6876,6976,6993,7053,7130,7193,7202,7224,7241,7242,7294,7326,7381,7534,7609,7654,7764,7784,7790,7811,7854,7917,7943,7963,8107,8119,8199,8240,8266,8324,8335,8336,8402,8491,8540,8553,8557,8583,8636,8657,8765,8839,8886,9075,9093,9165,9359,9392,9446,9476,9478,9489,9515,9556,9570,9588,9590,9759,9821,9842,9880,9900,9926],[3.229475715877849,3.75713731354315,4.815251592030871,2.9723932694147686,4.366832143926154,2.2146996049511465,4.18462476845226,4.615166162515633,4.307326389247584,4.744347613217118,3.57882639496574,3.4888404743580406,4.690952553204049,4.54297314801753,4.2366244739252705,4.238129138668978,4.61604470419305,4.360685633197332,3.6953252088590283,2.493200453441142,4.87094404197364,4.4077326367034315,4.66879603676835,1.13197913915378,3.5055643523831774,1.9555285898331989,3.9525574076696843,3.636122256404008,4.538083162723338,4.1919308678521485,3.317121346055637,1.0478219724556384,1.2926049893926805,4.562984130351446,4.4507500217871225,2.630077520230627,4.578947502313575,4.607947493960431,4.370607028298931,4.977660105338366,3.196312166885514,4.453360989327843,4.800874347576663,3.57742550750806,4.282149788586137,4.5848935805673285,3.4581399976680403,3.1802384630715315,4.196398055913592,4.337135343800913,4.843261580894896,4.7853986288811905,3.4155717548609843,4.710454388664124,4.376469114051474,5.031456602889755,4.840232527222703,3.964855444696785,4.276970462874789,4.7796887768772836,4.1974095436091075,7.436499219337731,4.712388157697959,3.8600908902732756,3.4120059824615994,3.5350182093499676,5.447789925511141,3.544379820502401,2.332134331644009,2.7586623755449247,3.3820076286323677,4.941112216033622,4.313964477250922,3.9188407229374906,7.289972334631638,2.6828337402055618,4.57472184633211,3.6363697096984615,4.665824151213156,5.25384178966983,3.917091515101081,4.806175181616255,4.390399341053153,3.8295068453479026,1.352402662937258,4.7668318242536705,3.784885413175581,4.776846030422244,4.256977545877311,1.9359055023492497,4.4794691691873,4.004470369363397,3.890256562549732,3.469944050849364,4.117288992856059,3.1590815896180566,4.903507068855306,4.955818363423317,4.51160748873931,1.671721380097057,2.5846231882461805,3.6424100242864155,4.06389622256612,3.808709898534387,4.8599471737866065,3.710401535854888,8.589955166918138,4.852960977983609,1.7490276154939872,4.83392854581428,3.0389411407971267,4.661215848126962,3.278606428993497,3.916108928636306,3.7286898088987366,4.431747512907306,3.928405965456264,3.990619896396113,3.8076323650021027,4.202773041282303,3.1036279488429,4.5003880028788945,4.683061941188211,4.555303760475009,4.094335868044157,4.678373700064756,4.310882810713514,3.5868805496199325,3.953463204833065,5.147442312879585,4.746348114009317,3.3353916667273125,4.525158911742403,3.3348423335429302,4.35221100620636,4.532408238697314,3.9211412114363053,4.623322275181743,1.896256732165749,4.252232033718666,4.638262903193838,3.537107606423794,4.039280748447056,3.668986308786068,4.799289561191091,4.2536074446484164,4.708524351876824,4.5031320265528665,4.069732321343517,4.370950907256927,5.217904888686134,3.2620166085500863,2.8800099568030952,4.585959110769367,4.338133347875764,1.8295859070933518,4.327374326603998,3.801483304584619,3.9370601856737633,4.6795437013682255,4.324251121961198,3.9978171429677913,3.4982087268048967,3.9793969588660105,4.491812623881468,4.2399377299683,5.3352367625933805,3.8742224637639917,4.024091823419322,3.793439456396218,5.1682173754545495,3.4624982073265387,4.925121529852936,4.532004116646956,4.5334192589027325,3.3989741356770504,4.036569049509417,4.813376172860958,4.296732389684279,2.5547575115243797,2.638435886325859,3.2854363449917923,4.092251448321245,3.736318580798358,3.8838965665514693,4.833109209430877,5.059123379899047,4.278380347967737,3.417028130068753,4.982086290243927,2.2286112691663416,3.845139254854407,4.65069665668618,4.33929894620938,4.509037555526908,4.508642766733782,5.055025013506765,2.8571190051390665,4.541952427300145,4.905559554548725,1.6964168842355776])                                                                                                                                                                                                                                                                                                                                                                                                                                                                                                                                                                                                                                                                                                                                                                                                                                                                                                                                                                                                                                                                                                                                                                                                                                                                                                                                                                                                                                                                                                                                                                                                                                                                                                                                                                                                                                                                                                                                                                                                                                                                                                                                                                                                                                                                                                                                                                                                                                                                                                                                                                                                                                                                                                                                                                                                                                                                                                                                                                                                                                                                                                                                                                                                                                                                                                                                                                                                                                                                                                                                                                                                                                                                                                                                                                                                                                                                                                                                                                                                                                                                                                                                                                                                                                                                                                                                                                                                                                                                                                                                                                                                                                                                                                                                                                                                                                                                                                                                                                                                                                                                                                                                                                                                                                                                                                                                                                                                                                                                                                                                                                                                                                                                                                                                                                                                                                                                                                                                                                                                                                                                                                                                                                                                                                                                                                                                                                                                                                                                                                                                                                                                                                                                                                                                                                                                                                                                                                                                                                                                                                                                                                                                                                                                                                                                                                                                                                                                                                                                                                                                                                                                                                                                                                                                                                                                                                                                                                                                                             |\n",
      "|1.0  |Oh man this is going to be a long review so if you want the gist, god awful, do not go. I was so dissapointed with everything that once I got home I had to write a review.  First of All I am Vietnamese and Pho is such a soulful dish, the pho I had today was the worst thing ever.  My parents came to visit with my sister and a friend, and after a long day we wanted to finish with a hot bowl of pho.  I have seen this place, I have even walked by it when I ate at Sura.  There was a smell so tantalizing that I had to go and try it. I thought it would be a good idea to try Jenni Pho Grill tonight.\n",
      "\n",
      "We walk in saw that the place was not too busy maybe about 7 tables.  We got seated fairly quickly.  Our server was pretty nice, my parents attempted to order in vietnamese but the server informed us that he did not speak it.  Cool cool, no big deal, he seemed like a nice kid.  After that it went downhill from there.  We ordered three bowls of the Pho Dac biet, and two orders of the pho tai.  We finished our order with two thai teas, the jenni jelly drink, and two waters.  \n",
      "\n",
      "My family waited around, no waters, no drinks nothing.  We watched three tables get seated order their food and get their food before we even had anything on our table!  after a 25 min wait, our waiter finally comes back with two waters.  We asked why the service was so slow, he stated that there was only two waiters and said sorry.  So it was fine for now.  After we got the water nothing else came to us.  We watched as the tables that came in after us eat, and one even finished before we were served.  After another 35 minutes, our food finally came out.  First the two dac biet bowls, then the last three.  Finally the drinks came out as well.  I have worked at a boba place before, making thai teas should not take a hour.  For waiting for so long I was really anticipating for a great bowl of pho.  Oh man was I wrong.  The broth was lukewarm, it could not even finish cooking my meat.  The broth tasty funky as if it was made with a pre made powder.  My parents and I watched a one cook was constantly tasting the broth, and we saw no bones that make a great broth.  The bowl was mostly disappointing broth.  There were very little meat and noodles.  We ate, and we wanted to get out as soon as possible.  We asked for a to go cup for the thai tea because it took so long we were just going to take it home.  It took almost another five minutes just to get a plastic cup.  \n",
      "\n",
      "In the end it was just terrible.  My family and I went home unhappy.  And the thing is I love food, I work in the industry so I timing is very important.  Having only two servers is rough but it can not be the only excuse.  If there was something wrong or if it was going to take a little longer, they should inform the customers.  The worst part was watching tables come in before us and eat before we got anything.  I am never going back.  I really hope they clean up their act, there are a lot of pho places out here and if they don't fix things it will be buried beneath the rest.|[oh, man, this, is, going, to, be, a, long, review, so, if, you, want, the, gist, god, awful, do, not, go, i, was, so, dissapointed, with, everything, that, once, i, got, home, i, had, to, write, a, review, first, of, all, i, am, vietnamese, and, pho, is, such, a, soulful, dish, the, pho, i, had, today, was, the, worst, thing, ever, my, parents, came, to, visit, with, my, sister, and, a, friend, and, after, a, long, day, we, wanted, to, finish, with, a, hot, bowl, of, pho, i, have, seen, this, place, i, have, even, walked, by, it, when, i, ate, at, sura, there, was, a, smell, so, tantalizing, that, i, had, to, go, and, try, it, i, thought, it, would, be, a, good, idea, to, try, jenni, pho, grill, tonight, we, walk, in, saw, that, the, place, was, not, too, busy, maybe, about, 7, tables, we, got, seated, fairly, quickly, our, server, was, pretty, nice, my, parents, attempted, to, order, in, vietnamese, but, the, server, informed, us, that, he, did, not, speak, it, cool, cool, no, big, deal, he, seemed, like, a, nice, kid, after, that, it, went, downhill, from, there, we, ordered, three, bowls, of, the, pho, dac, biet, and, two, orders, of, the, pho, tai, we, finished, our, order, with, two, thai, teas, the, jenni, jelly, drink, and, two, waters, my, family, waited, around, no, waters, no, drinks, nothing, we, watched, three, tables, get, seated, order, their, food, and, get, their, food, before, we, even, had, anything, on, our, table, after, a, 25, min, wait, our, waiter, finally, comes, back, with, two, waters, we, asked, why, the, service, was, so, slow, he, stated, that, there, was, only, two, waiters, and, said, sorry, so, it, was, fine, for, now, after, we, got, the, water, nothing, else, came, to, us, we, watched, as, the, tables, that, came, in, after, us, eat, and, one, even, finished, before, we, were, served, after, another, 35, minutes, our, food, finally, came, out, first, the, two, dac, biet, bowls, then, the, last, three, finally, the, drinks, came, out, as, well, i, have, worked, at, a, boba, place, before, making, thai, teas, should, not, take, a, hour, for, waiting, for, so, long, i, was, really, anticipating, for, a, great, bowl, of, pho, oh, man, was, i, wrong, the, broth, was, lukewarm, it, could, not, even, finish, cooking, my, meat, the, broth, tasty, funky, as, if, it, was, made, with, a, pre, made, powder, my, parents, and, i, watched, a, one, cook, was, constantly, tasting, the, broth, and, we, saw, no, bones, that, make, a, great, broth, the, bowl, was, mostly, disappointing, broth, there, were, very, little, meat, and, noodles, we, ate, and, we, wanted, to, get, out, as, soon, as, possible, we, asked, for, a, to, go, cup, for, the, thai, tea, because, it, took, so, long, we, were, just, going, to, take, it, home, it, took, almost, another, five, minutes, just, to, get, a, plastic, cup, in, the, end, it, was, just, terrible, my, family, and, i, went, home, unhappy, and, the, thing, is, i, love, food, i, work, in, the, industry, so, i, timing, is, very, important, having, only, two, servers, is, rough, but, it, can, not, be, the, only, excuse, if, there, was, something, wrong, or, if, it, was, going, to, take, a, little, longer, they, should, inform, the, customers, the, worst, part, was, watching, tables, come, in, before, us, and, eat, before, we, got, anything, i, am, never, going, back, i, really, hope, they, clean, up, their, act, there, are, a, lot, of, pho, places, out, here, and, if, they, don, t, fix, things, it, will, be, buried, beneath, the, rest]|[oh man, man this, this is, is going, going to, to be, be a, a long, long review, review so, so if, if you, you want, want the, the gist, gist god, god awful, awful do, do not, not go, go i, i was, was so, so dissapointed, dissapointed with, with everything, everything that, that once, once i, i got, got home, home i, i had, had to, to write, write a, a review, review first, first of, of all, all i, i am, am vietnamese, vietnamese and, and pho, pho is, is such, such a, a soulful, soulful dish, dish the, the pho, pho i, i had, had today, today was, was the, the worst, worst thing, thing ever, ever my, my parents, parents came, came to, to visit, visit with, with my, my sister, sister and, and a, a friend, friend and, and after, after a, a long, long day, day we, we wanted, wanted to, to finish, finish with, with a, a hot, hot bowl, bowl of, of pho, pho i, i have, have seen, seen this, this place, place i, i have, have even, even walked, walked by, by it, it when, when i, i ate, ate at, at sura, sura there, there was, was a, a smell, smell so, so tantalizing, tantalizing that, that i, i had, had to, to go, go and, and try, try it, it i, i thought, thought it, it would, would be, be a, a good, good idea, idea to, to try, try jenni, jenni pho, pho grill, grill tonight, tonight we, we walk, walk in, in saw, saw that, that the, the place, place was, was not, not too, too busy, busy maybe, maybe about, about 7, 7 tables, tables we, we got, got seated, seated fairly, fairly quickly, quickly our, our server, server was, was pretty, pretty nice, nice my, my parents, parents attempted, attempted to, to order, order in, in vietnamese, vietnamese but, but the, the server, server informed, informed us, us that, that he, he did, did not, not speak, speak it, it cool, cool cool, cool no, no big, big deal, deal he, he seemed, seemed like, like a, a nice, nice kid, kid after, after that, that it, it went, went downhill, downhill from, from there, there we, we ordered, ordered three, three bowls, bowls of, of the, the pho, pho dac, dac biet, biet and, and two, two orders, orders of, of the, the pho, pho tai, tai we, we finished, finished our, our order, order with, with two, two thai, thai teas, teas the, the jenni, jenni jelly, jelly drink, drink and, and two, two waters, waters my, my family, family waited, waited around, around no, no waters, waters no, no drinks, drinks nothing, nothing we, we watched, watched three, three tables, tables get, get seated, seated order, order their, their food, food and, and get, get their, their food, food before, before we, we even, even had, had anything, anything on, on our, our table, table after, after a, a 25, 25 min, min wait, wait our, our waiter, waiter finally, finally comes, comes back, back with, with two, two waters, waters we, we asked, asked why, why the, the service, service was, was so, so slow, slow he, he stated, stated that, that there, there was, was only, only two, two waiters, waiters and, and said, said sorry, sorry so, so it, it was, was fine, fine for, for now, now after, after we, we got, got the, the water, water nothing, nothing else, else came, came to, to us, us we, we watched, watched as, as the, the tables, tables that, that came, came in, in after, after us, us eat, eat and, and one, one even, even finished, finished before, before we, we were, were served, served after, after another, another 35, 35 minutes, minutes our, our food, food finally, finally came, came out, out first, first the, the two, two dac, dac biet, biet bowls, bowls then, then the, the last, last three, three finally, finally the, the drinks, drinks came, came out, out as, as well, well i, i have, have worked, worked at, at a, a boba, boba place, place before, before making, making thai, thai teas, teas should, should not, not take, take a, a hour, hour for, for waiting, waiting for, for so, so long, long i, i was, was really, really anticipating, anticipating for, for a, a great, great bowl, bowl of, of pho, pho oh, oh man, man was, was i, i wrong, wrong the, the broth, broth was, was lukewarm, lukewarm it, it could, could not, not even, even finish, finish cooking, cooking my, my meat, meat the, the broth, broth tasty, tasty funky, funky as, as if, if it, it was, was made, made with, with a, a pre, pre made, made powder, powder my, my parents, parents and, and i, i watched, watched a, a one, one cook, cook was, was constantly, constantly tasting, tasting the, the broth, broth and, and we, we saw, saw no, no bones, bones that, that make, make a, a great, great broth, broth the, the bowl, bowl was, was mostly, mostly disappointing, disappointing broth, broth there, there were, were very, very little, little meat, meat and, and noodles, noodles we, we ate, ate and, and we, we wanted, wanted to, to get, get out, out as, as soon, soon as, as possible, possible we, we asked, asked for, for a, a to, to go, go cup, cup for, for the, the thai, thai tea, tea because, because it, it took, took so, so long, long we, we were, were just, just going, going to, to take, take it, it home, home it, it took, took almost, almost another, another five, five minutes, minutes just, just to, to get, get a, a plastic, plastic cup, cup in, in the, the end, end it, it was, was just, just terrible, terrible my, my family, family and, and i, i went, went home, home unhappy, unhappy and, and the, the thing, thing is, is i, i love, love food, food i, i work, work in, in the, the industry, industry so, so i, i timing, timing is, is very, very important, important having, having only, only two, two servers, servers is, is rough, rough but, but it, it can, can not, not be, be the, the only, only excuse, excuse if, if there, there was, was something, something wrong, wrong or, or if, if it, it was, was going, going to, to take, take a, a little, little longer, longer they, they should, should inform, inform the, the customers, customers the, the worst, worst part, part was, was watching, watching tables, tables come, come in, in before, before us, us and, and eat, eat before, before we, we got, got anything, anything i, i am, am never, never going, going back, back i, i really, really hope, hope they, they clean, clean up, up their, their act, act there, there are, are a, a lot, lot of, of pho, pho places, places out, out here, here and, and if, if they, they don, don t, t fix, fix things, things it, it will, will be, be buried, buried beneath, beneath the, the rest]|(10000,[83,84,96,106,141,145,150,154,173,194,196,211,279,284,312,337,378,391,421,432,484,499,551,555,570,583,585,619,672,687,695,721,738,752,755,770,796,804,854,855,867,895,917,973,981,988,999,1023,1027,1072,1075,1118,1155,1168,1182,1191,1195,1206,1217,1219,1220,1225,1279,1284,1324,1345,1347,1407,1423,1479,1496,1505,1544,1558,1560,1581,1602,1603,1617,1653,1673,1682,1698,1700,1727,1756,1793,1794,1812,1817,1828,1830,1833,1845,1847,1853,1874,1875,1880,1945,1948,1957,1980,1984,2009,2025,2031,2043,2060,2072,2075,2078,2088,2114,2121,2122,2130,2183,2210,2229,2234,2265,2274,2306,2336,2338,2355,2371,2376,2405,2444,2468,2482,2498,2521,2557,2563,2566,2571,2616,2659,2678,2680,2703,2707,2712,2722,2736,2758,2798,2822,2846,2867,2897,2902,2903,2928,2938,2942,3016,3032,3034,3055,3067,3072,3090,3098,3121,3160,3162,3182,3238,3283,3291,3302,3324,3326,3330,3381,3403,3411,3438,3444,3447,3473,3510,3514,3532,3540,3559,3590,3610,3614,3617,3645,3646,3719,3802,3815,3819,3842,3858,3865,3869,3882,3885,3954,3979,3990,4030,4103,4108,4131,4143,4165,4199,4211,4251,4284,4296,4304,4305,4318,4333,4344,4345,4348,4368,4439,4471,4493,4510,4521,4555,4557,4593,4623,4659,4672,4682,4686,4709,4780,4785,4797,4843,4886,4894,4895,4934,4951,4976,4988,4994,5001,5011,5017,5025,5032,5034,5050,5054,5061,5072,5140,5173,5184,5218,5224,5257,5261,5262,5321,5325,5344,5352,5367,5388,5393,5470,5499,5545,5559,5569,5573,5638,5649,5698,5720,5740,5746,5770,5821,5822,5838,5840,5845,5847,5918,5928,5935,5936,5981,5988,6005,6087,6092,6094,6112,6118,6120,6123,6128,6154,6174,6179,6187,6201,6257,6287,6324,6368,6431,6447,6451,6456,6473,6482,6484,6504,6547,6562,6568,6599,6605,6635,6720,6734,6736,6749,6810,6829,6833,6860,6864,6871,6872,6929,6968,6983,7026,7035,7057,7080,7091,7099,7101,7107,7130,7136,7144,7192,7211,7232,7242,7249,7262,7270,7279,7294,7303,7359,7372,7373,7434,7453,7456,7474,7504,7515,7528,7534,7566,7576,7581,7589,7675,7687,7700,7709,7717,7721,7728,7733,7736,7738,7740,7759,7774,7790,7811,7828,7839,7850,7860,7863,7884,7890,7908,7920,7955,7956,7974,7999,8005,8015,8025,8028,8041,8062,8076,8105,8107,8111,8148,8184,8188,8202,8223,8235,8283,8325,8358,8362,8390,8400,8407,8433,8515,8517,8519,8562,8573,8577,8578,8583,8586,8592,8602,8615,8617,8628,8653,8660,8687,8698,8723,8766,8775,8780,8839,8849,8886,8892,8904,8929,8949,8966,8977,8978,8979,9014,9018,9051,9056,9078,9178,9190,9191,9203,9205,9229,9279,9284,9310,9351,9370,9373,9386,9397,9453,9478,9495,9503,9506,9514,9515,9517,9520,9521,9529,9558,9567,9573,9595,9613,9626,9646,9648,9651,9654,9678,9685,9686,9692,9730,9747,9771,9776,9779,9789,9796,9800,9808,9859,9896,9897,9929,9934,9989],[1.0,1.0,3.0,2.0,1.0,1.0,1.0,1.0,1.0,1.0,1.0,1.0,1.0,1.0,1.0,3.0,1.0,1.0,1.0,1.0,1.0,1.0,1.0,1.0,1.0,1.0,1.0,1.0,1.0,1.0,1.0,1.0,1.0,1.0,1.0,2.0,1.0,1.0,1.0,1.0,1.0,1.0,1.0,1.0,1.0,1.0,1.0,2.0,1.0,1.0,1.0,1.0,1.0,1.0,1.0,1.0,1.0,1.0,1.0,2.0,1.0,2.0,2.0,1.0,1.0,1.0,1.0,1.0,1.0,1.0,2.0,1.0,2.0,1.0,2.0,1.0,1.0,1.0,1.0,1.0,1.0,1.0,1.0,1.0,1.0,1.0,1.0,1.0,1.0,3.0,1.0,1.0,1.0,1.0,1.0,2.0,1.0,1.0,1.0,1.0,2.0,1.0,1.0,1.0,1.0,1.0,1.0,1.0,1.0,1.0,1.0,3.0,1.0,1.0,1.0,1.0,1.0,2.0,2.0,1.0,1.0,1.0,1.0,2.0,1.0,1.0,1.0,1.0,1.0,1.0,1.0,1.0,1.0,1.0,1.0,1.0,2.0,1.0,1.0,1.0,1.0,1.0,1.0,1.0,1.0,1.0,1.0,1.0,1.0,1.0,1.0,1.0,1.0,1.0,1.0,1.0,1.0,1.0,1.0,1.0,1.0,1.0,1.0,1.0,2.0,2.0,1.0,1.0,1.0,1.0,3.0,1.0,1.0,1.0,1.0,1.0,1.0,1.0,1.0,1.0,1.0,1.0,1.0,1.0,1.0,1.0,1.0,1.0,1.0,1.0,1.0,1.0,1.0,1.0,1.0,1.0,1.0,2.0,2.0,1.0,1.0,1.0,1.0,1.0,1.0,2.0,1.0,2.0,1.0,2.0,1.0,1.0,1.0,1.0,1.0,2.0,1.0,1.0,1.0,1.0,1.0,1.0,1.0,1.0,1.0,1.0,1.0,1.0,1.0,1.0,3.0,1.0,1.0,1.0,1.0,1.0,1.0,1.0,1.0,1.0,1.0,1.0,1.0,1.0,1.0,1.0,1.0,4.0,1.0,1.0,1.0,1.0,1.0,1.0,1.0,1.0,1.0,1.0,1.0,3.0,1.0,1.0,1.0,1.0,1.0,1.0,1.0,2.0,1.0,1.0,1.0,1.0,1.0,1.0,1.0,1.0,1.0,1.0,1.0,1.0,1.0,1.0,1.0,1.0,1.0,1.0,1.0,1.0,2.0,1.0,1.0,1.0,1.0,2.0,1.0,2.0,2.0,1.0,1.0,2.0,1.0,1.0,1.0,1.0,2.0,1.0,1.0,1.0,1.0,1.0,1.0,1.0,1.0,1.0,3.0,1.0,1.0,1.0,1.0,1.0,1.0,1.0,1.0,1.0,1.0,1.0,1.0,1.0,1.0,1.0,1.0,1.0,2.0,1.0,1.0,1.0,1.0,1.0,1.0,1.0,1.0,1.0,1.0,1.0,1.0,2.0,1.0,1.0,1.0,1.0,1.0,1.0,1.0,1.0,3.0,1.0,2.0,1.0,1.0,1.0,1.0,1.0,2.0,1.0,1.0,1.0,1.0,1.0,1.0,1.0,1.0,1.0,1.0,1.0,1.0,1.0,1.0,1.0,1.0,2.0,1.0,1.0,1.0,1.0,1.0,1.0,1.0,1.0,1.0,1.0,1.0,1.0,1.0,1.0,1.0,1.0,1.0,1.0,1.0,1.0,3.0,1.0,1.0,1.0,1.0,1.0,1.0,1.0,1.0,1.0,2.0,1.0,1.0,1.0,1.0,1.0,1.0,1.0,1.0,1.0,1.0,1.0,1.0,1.0,1.0,1.0,1.0,1.0,1.0,1.0,1.0,1.0,1.0,1.0,1.0,1.0,1.0,1.0,3.0,1.0,1.0,1.0,1.0,3.0,2.0,1.0,1.0,1.0,1.0,1.0,1.0,2.0,3.0,1.0,1.0,1.0,1.0,2.0,1.0,1.0,1.0,1.0,1.0,1.0,1.0,1.0,1.0,1.0,1.0,1.0,2.0,1.0,1.0,1.0,3.0,1.0,1.0,1.0,1.0,1.0,1.0,1.0,1.0,1.0,1.0,1.0,1.0,1.0,1.0,1.0,1.0,1.0,1.0,1.0,1.0,2.0,1.0,2.0,1.0,2.0,1.0,3.0,1.0,1.0,1.0,1.0,2.0,1.0,1.0,1.0,1.0,1.0,1.0,1.0,1.0,1.0,1.0,1.0,2.0,1.0,1.0,1.0,1.0,1.0,1.0,1.0,1.0,1.0,2.0,1.0])|(10000,[83,84,96,106,141,145,150,154,173,194,196,211,279,284,312,337,378,391,421,432,484,499,551,555,570,583,585,619,672,687,695,721,738,752,755,770,796,804,854,855,867,895,917,973,981,988,999,1023,1027,1072,1075,1118,1155,1168,1182,1191,1195,1206,1217,1219,1220,1225,1279,1284,1324,1345,1347,1407,1423,1479,1496,1505,1544,1558,1560,1581,1602,1603,1617,1653,1673,1682,1698,1700,1727,1756,1793,1794,1812,1817,1828,1830,1833,1845,1847,1853,1874,1875,1880,1945,1948,1957,1980,1984,2009,2025,2031,2043,2060,2072,2075,2078,2088,2114,2121,2122,2130,2183,2210,2229,2234,2265,2274,2306,2336,2338,2355,2371,2376,2405,2444,2468,2482,2498,2521,2557,2563,2566,2571,2616,2659,2678,2680,2703,2707,2712,2722,2736,2758,2798,2822,2846,2867,2897,2902,2903,2928,2938,2942,3016,3032,3034,3055,3067,3072,3090,3098,3121,3160,3162,3182,3238,3283,3291,3302,3324,3326,3330,3381,3403,3411,3438,3444,3447,3473,3510,3514,3532,3540,3559,3590,3610,3614,3617,3645,3646,3719,3802,3815,3819,3842,3858,3865,3869,3882,3885,3954,3979,3990,4030,4103,4108,4131,4143,4165,4199,4211,4251,4284,4296,4304,4305,4318,4333,4344,4345,4348,4368,4439,4471,4493,4510,4521,4555,4557,4593,4623,4659,4672,4682,4686,4709,4780,4785,4797,4843,4886,4894,4895,4934,4951,4976,4988,4994,5001,5011,5017,5025,5032,5034,5050,5054,5061,5072,5140,5173,5184,5218,5224,5257,5261,5262,5321,5325,5344,5352,5367,5388,5393,5470,5499,5545,5559,5569,5573,5638,5649,5698,5720,5740,5746,5770,5821,5822,5838,5840,5845,5847,5918,5928,5935,5936,5981,5988,6005,6087,6092,6094,6112,6118,6120,6123,6128,6154,6174,6179,6187,6201,6257,6287,6324,6368,6431,6447,6451,6456,6473,6482,6484,6504,6547,6562,6568,6599,6605,6635,6720,6734,6736,6749,6810,6829,6833,6860,6864,6871,6872,6929,6968,6983,7026,7035,7057,7080,7091,7099,7101,7107,7130,7136,7144,7192,7211,7232,7242,7249,7262,7270,7279,7294,7303,7359,7372,7373,7434,7453,7456,7474,7504,7515,7528,7534,7566,7576,7581,7589,7675,7687,7700,7709,7717,7721,7728,7733,7736,7738,7740,7759,7774,7790,7811,7828,7839,7850,7860,7863,7884,7890,7908,7920,7955,7956,7974,7999,8005,8015,8025,8028,8041,8062,8076,8105,8107,8111,8148,8184,8188,8202,8223,8235,8283,8325,8358,8362,8390,8400,8407,8433,8515,8517,8519,8562,8573,8577,8578,8583,8586,8592,8602,8615,8617,8628,8653,8660,8687,8698,8723,8766,8775,8780,8839,8849,8886,8892,8904,8929,8949,8966,8977,8978,8979,9014,9018,9051,9056,9078,9178,9190,9191,9203,9205,9229,9279,9284,9310,9351,9370,9373,9386,9397,9453,9478,9495,9503,9506,9514,9515,9517,9520,9521,9529,9558,9567,9573,9595,9613,9626,9646,9648,9651,9654,9678,9685,9686,9692,9730,9747,9771,9776,9779,9789,9796,9800,9808,9859,9896,9897,9929,9934,9989],[3.1356094209235224,2.9723932694147686,12.964885798679774,7.980064497465462,4.63871234140365,3.3929416197342617,4.468792232679222,3.845545924237807,4.513390550132967,4.752625598528456,4.855749602211259,4.6741729937709655,3.741986908280949,2.124149421218475,3.9634815035601108,11.800502014044525,4.412202916834335,4.2887806938420665,3.974179253249262,4.6607561836739135,4.865571485575539,5.027460243081846,4.419938855386725,3.5863311206198074,3.838553951688389,4.296732389684279,3.748240952393942,4.039404182379201,4.216972211263612,4.636915799263136,5.102486816984266,5.063238612044154,5.183602294294029,2.8269622200066964,4.132482562439639,4.799049182628363,3.969679159114925,3.68150791321263,4.412920019769333,4.207873234487143,3.4156379077403125,3.916763878992651,4.909971975297898,2.522340386473532,4.053451277673986,3.9540297449875874,2.9058978160577786,7.047060438761554,4.297850689984545,3.6540972764416964,1.686190748779419,3.3607423503688247,4.798234430520793,2.6660621229697155,4.107198625778198,4.528173080607371,4.024699837057558,4.279635250093204,5.375739307316213,4.727402117378658,3.7878566139045553,2.26395827830756,4.363991669469215,5.1125443730283076,4.117956415960325,1.9555285898331989,2.8068234078013328,4.482925393825976,3.6556939825248644,4.056083682829326,6.399222892332162,2.7965478121154206,4.122474739613343,4.684237443850902,2.0956439449112767,3.609269544513411,4.685178841896421,3.544003668532572,1.2926049893926805,4.3868985498005895,4.051325346778877,4.846023250697625,3.4062877375595173,4.041752326571273,2.8633829058091442,4.4462898768724655,1.9104732189484304,3.347553978809884,2.9730304962253453,8.088828280085817,4.987806038916714,5.157209482937622,4.053952154218392,3.5072304761341724,3.3974788325996177,10.29338985737868,4.914107874841947,2.3262859701454865,4.722113495717289,3.6833219334915284,6.755716755045866,3.3963101530743143,4.313152591195121,4.172565318905695,3.3209654255084784,5.011017912777932,2.7510775224818236,4.830382926390024,4.851291528514068,3.9325018365722744,4.680715073178396,12.383660152912979,4.020209265763657,4.257131002487756,3.8233216700029398,2.2931013457769236,3.8768420492720663,6.643014372488153,9.116405826937152,3.612003104665498,2.0444914378946906,4.680949512283912,4.464062302377677,3.0969751325872714,3.9609675038358483,4.538489749433554,3.86588560847493,4.244928288530202,5.099275395847809,4.474879373407526,1.9715871595336685,4.216530026865517,4.069350666227886,4.6389371362792735,4.717725385311813,3.4155717548609843,5.258466920504521,3.6750560004275905,2.9177294354122414,4.970744013639993,3.4747751472401944,4.137644214758081,4.347160490420292,4.501955094286766,4.378199817148759,4.774783642478025,3.7608676172253164,3.1066833114370467,4.639611824261687,4.727257413979333,2.51755911343653,3.471272025882895,4.112496651415753,4.444252273129602,5.225151297206901,4.64661038539301,3.3047291707917705,3.987685105300997,4.433576670176041,4.244019059796554,3.6900016373563274,3.0047188804129683,4.302336439255803,4.4496331192138285,6.4392780669376775,6.9592593929442685,4.215646244218509,4.122238504665897,4.2125591414360235,4.890990532288067,8.612855247844985,4.210506354791412,3.446473656182391,4.637364632304783,3.6875674885407848,3.6668578332474917,4.370607028298931,5.259680004751368,3.8836852617434987,4.01405242854471,4.833655359089456,4.926319493458318,4.852404185096173,4.019240977138014,5.129290304940289,2.084226093857115,3.2644591670651533,3.7277854861747812,3.8435142291057836,4.590660978803245,4.324743611505749,2.1506638577924218,4.019846047647187,3.2592404814449187,5.161370638932432,2.865861316320344,3.0240286035023787,7.883502718499287,4.780171673870484,3.8229239370753536,5.071866793267492,1.9585902955473962,3.8090039729373295,2.526383098150766,4.626425802390165,9.227261138730718,4.759196256487166,5.995363353463322,4.414176188620023,3.8718110046984995,3.1084820916687717,2.597384012199474,4.335308252519446,4.419397192468362,4.165678916876062,7.914644044937873,3.115660733166875,4.578312514462839,3.8589565771843928,4.565278905531828,3.1590815896180566,4.29593436873378,2.8192805668998346,4.802461649497235,4.666748365696688,4.554270382269998,5.053322305790775,1.4210150034408549,3.325851870848088,4.499018809510958,6.818814765426501,3.358053252097228,3.961195788279255,5.05570690920315,4.692267718463132,4.288939109683982,2.6763692248704922,1.6533960049452814,2.733265690089886,4.650469203028882,4.771954786277547,3.5192651934288346,4.584041973106876,2.8844727773347114,4.5532380708332205,4.617143967797204,5.009062877942129,3.982302437096709,5.185542159111855,4.159535362227657,3.6154709899103854,3.8580294589104125,2.8830735777593963,4.702516884572546,4.9539682241351555,1.5845394165639786,4.084731641072098,1.0886571372712996,2.3246180985185063,5.0085094093548985,4.4310167858013525,4.187913069363657,4.228090849266593,4.57619879564585,3.0840161865217257,3.6340625234409973,4.716024084621957,9.753831813457024,4.376469114051474,3.1696299392447176,4.42755310537197,3.4519467491356792,4.255597495056426,4.401862300535634,3.4501647061692204,4.647743786851755,2.3010343784642866,4.854633219175971,4.298810229479245,3.756020930507862,4.646383859171632,4.578947502313575,4.622658484915087,3.887177513559839,2.4323144141371724,5.0221692254474295,4.62998452500716,5.08372188329702,6.949831055342786,3.983474080245648,4.771184666870982,3.187110621264643,3.3038414129137994,3.505968198778123,3.012468809118366,2.9859990394971208,5.6132150055973895,4.07011412217539,4.343305629365809,3.4100505175443554,3.1231875181782436,4.518559547725439,4.50332831667029,5.258426086091774,6.2443021392975435,3.953463204833065,4.036569049509417,4.3623892111221165,4.434309270941408,2.7868352122795454,4.366832143926154,4.187197300955745,4.834201807190485,3.274002369295309,7.81094931072133,3.853509212873881,4.102980322660498,3.3491001955263884,4.015738769585147,3.9769586412573674,3.968068667567017,4.3992053155344015,5.0354496331153245,4.69606910104031,3.506650639921652,4.191355907364842,3.0210369288368666,4.768877860773068,5.153441580966672,4.510618271129709,2.4874573051567874,4.379760015090279,7.900367172800218,5.062551562893115,4.5673696443239375,2.1129747063513658,3.6834083975441523,3.304551556155858,2.879932518463334,4.2138810186939395,1.5126638293073977,4.733662954482001,2.8622030544857653,3.532115233624141,3.6995342645293703,8.417792804020891,4.571144024984227,3.147529592244051,3.8746411365773086,4.819282230297041,4.539914106170447,4.204227586993297,4.163300794471095,4.2523847637686005,10.115854607229146,4.049952148885046,8.633459661564391,2.766581709017789,4.039280748447056,4.332325648817061,4.873499046912189,2.5603952797703355,8.078067852562345,4.220368803172683,4.5031320265528665,3.601671027649762,4.725294704811485,4.710454388664124,4.202773041282303,4.069732321343517,4.264215584714746,3.3868167174429726,2.8450441532443413,4.752121947044628,4.641187868717153,4.743348861573548,3.9740636128906477,3.8112614210177607,4.212265628079059,2.7377518730313724,5.0238196631879735,3.2620166085500863,4.258513172714708,4.744847363352457,5.210710613052107,4.570513971408832,3.337347298958484,4.681418555444481,4.665824151213156,5.03611830582496,3.786130325953073,4.067825500706009,2.7276641817117744,4.603380779489184,4.777104128242751,3.768935203196119,4.101009101836904,2.5180443017260554,5.125991786281624,4.327374326603998,11.404449913753858,3.3747418222892827,3.1281377782747177,3.9668050983908,4.795338548544411,4.689426134737204,3.771198287613196,3.225912408651126,5.108940765525009,3.9318365005530533,3.5850149029010305,4.749356389028048,4.552825444460542,3.457863926163768,4.421384725871759,4.949357796420373,3.879047816670256,3.8123428742028445,4.646383859171632,4.651606989020325,1.9654243873324868,4.21241237398878,3.4982087268048967,1.2682051427434393,2.153225205301635,3.5143608905125134,4.226750066942827,4.707079264920144,2.9128359195702793,5.150812471471038,4.791926919464462,3.4804057927470224,4.30845660653105,3.69856812330978,4.1833409796731305,4.247204983753573,4.551794622804476,4.365291970780078,13.539576825374645,3.5205134038776182,3.783737636865931,3.19897202588533,3.736318580798358,5.862671033419023,7.13473167797391,3.3989741356770504,4.820899045523946,4.655942420796771,4.824681811450507,4.6529740432318585,4.822518479076249,7.695367312006397,7.462450364275983,4.535444370975954,4.24979151999971,4.783318544927862,3.2409088303926614,7.048829828437563,4.629093656351358,4.375259401642651,2.5547575115243797,4.2639065134713645,2.638435886325859,4.111036894007045,4.023241224911266,3.1181142404578153,4.855470389589035,4.168062708231338,3.804211553378129,3.8168780293682354,7.081099386061772,3.8514612907983152,4.617363965598113,4.580006712242072,9.656633995273491,4.399028433956157,4.815251592030871,4.790617847409473,4.2973712652849905,3.929400715469212,4.726520946534729,3.920483388805413,3.526556163606332,4.5267653377906765,2.8865752543590006,4.4306516223866685,4.923626090662923,4.398497976866536,2.039099235131585,4.824681811450507,4.4186754313399526,3.417028130068753,3.6491552719954337,3.8723406022572378,4.341300281100197,8.383286692572101,2.2286112691663416,5.133488298265944,4.976714180626496,6.31366396981273,4.697498353308386,13.454552078525857,4.86528951743607,3.3620582637084464,4.274937465067689,4.857706276490319,6.613370033451334,4.095902039076902,4.70997153013229,4.716509875255752,4.5189582718136565,4.753633663129951,3.7503651739269466,4.098386837321308,4.704435350388775,2.7610315973855677,3.5219838842543445,4.351536128502325,8.252270099474192,4.425916592596512,3.842398553752976,3.1262042609028087,2.7034874687368355,4.595385058879337,2.945121708108269,4.34783242056484,4.781502014001465,3.725889066226823,9.507771676281488,4.924523085789593])|\n",
      "|1.0  |I'm truly disgusted by the service of this restaurant.  I came in with my family (Mom and Dad) and they said 10 minute wait, we said okay, we notice that they were short with their staff so we waited patiently till we were seated at a table, but that 10 minutes turned into a 30min wait. So the hostess sat us at a table saying how there may be awhile wait, after seeing 2 servers walk by us like we didn't exist, the hostess later seated another table which were 4 Caucasian customers, we were still patiently waited for around another 30min, when those 4 sat down an Asian waiter quickly came to take their order, I got the waiters attention and said excuse me, we came here first. And she made up an excuse saying how \"Oh we wait on different tables probably your waiter is busy\" I knew this was an excuse, I was so disgusted. So we told the hostess that this waiter is waiting on a table after us, and she said oh well we said there would probably be a long wait, and the hostess had the audacity to say \"Oh but they serve the people who come before\" and I said, we were before them, we been waiting 30min at this table and you know this because you sat us at our table\" she said it depends. So in the end we left the restaurant hungry and went to a much better restaurant which served us very well, called Rice Paper.                                                                                                                                                                                                                                                                                                                                                                                                                                                                                                                                                                                                                                                                                                                                                                                                                                                                                                                                                                                                                                                                                                                                                                                                                                                                                                                                                                                                                                                                                                                                                                                                                                                                                                                                                                                               |[i, m, truly, disgusted, by, the, service, of, this, restaurant, i, came, in, with, my, family, mom, and, dad, and, they, said, 10, minute, wait, we, said, okay, we, notice, that, they, were, short, with, their, staff, so, we, waited, patiently, till, we, were, seated, at, a, table, but, that, 10, minutes, turned, into, a, 30min, wait, so, the, hostess, sat, us, at, a, table, saying, how, there, may, be, awhile, wait, after, seeing, 2, servers, walk, by, us, like, we, didn, t, exist, the, hostess, later, seated, another, table, which, were, 4, caucasian, customers, we, were, still, patiently, waited, for, around, another, 30min, when, those, 4, sat, down, an, asian, waiter, quickly, came, to, take, their, order, i, got, the, waiters, attention, and, said, excuse, me, we, came, here, first, and, she, made, up, an, excuse, saying, how, oh, we, wait, on, different, tables, probably, your, waiter, is, busy, i, knew, this, was, an, excuse, i, was, so, disgusted, so, we, told, the, hostess, that, this, waiter, is, waiting, on, a, table, after, us, and, she, said, oh, well, we, said, there, would, probably, be, a, long, wait, and, the, hostess, had, the, audacity, to, say, oh, but, they, serve, the, people, who, come, before, and, i, said, we, were, before, them, we, been, waiting, 30min, at, this, table, and, you, know, this, because, you, sat, us, at, our, table, she, said, it, depends, so, in, the, end, we, left, the, restaurant, hungry, and, went, to, a, much, better, restaurant, which, served, us, very, well, called, rice, paper]                                                                                                                                                                                                                                                                                                                                                                                                                                                                                                                                                                                                                                                                                                                                                                                                                                                                                                                                                                                                                                                                                                                                                                                                                                                                                                                                                                                                                                                                                                                                                                                                                                                                                                                                                                                                                                                                                                                                                                                                                                                                           |[i m, m truly, truly disgusted, disgusted by, by the, the service, service of, of this, this restaurant, restaurant i, i came, came in, in with, with my, my family, family mom, mom and, and dad, dad and, and they, they said, said 10, 10 minute, minute wait, wait we, we said, said okay, okay we, we notice, notice that, that they, they were, were short, short with, with their, their staff, staff so, so we, we waited, waited patiently, patiently till, till we, we were, were seated, seated at, at a, a table, table but, but that, that 10, 10 minutes, minutes turned, turned into, into a, a 30min, 30min wait, wait so, so the, the hostess, hostess sat, sat us, us at, at a, a table, table saying, saying how, how there, there may, may be, be awhile, awhile wait, wait after, after seeing, seeing 2, 2 servers, servers walk, walk by, by us, us like, like we, we didn, didn t, t exist, exist the, the hostess, hostess later, later seated, seated another, another table, table which, which were, were 4, 4 caucasian, caucasian customers, customers we, we were, were still, still patiently, patiently waited, waited for, for around, around another, another 30min, 30min when, when those, those 4, 4 sat, sat down, down an, an asian, asian waiter, waiter quickly, quickly came, came to, to take, take their, their order, order i, i got, got the, the waiters, waiters attention, attention and, and said, said excuse, excuse me, me we, we came, came here, here first, first and, and she, she made, made up, up an, an excuse, excuse saying, saying how, how oh, oh we, we wait, wait on, on different, different tables, tables probably, probably your, your waiter, waiter is, is busy, busy i, i knew, knew this, this was, was an, an excuse, excuse i, i was, was so, so disgusted, disgusted so, so we, we told, told the, the hostess, hostess that, that this, this waiter, waiter is, is waiting, waiting on, on a, a table, table after, after us, us and, and she, she said, said oh, oh well, well we, we said, said there, there would, would probably, probably be, be a, a long, long wait, wait and, and the, the hostess, hostess had, had the, the audacity, audacity to, to say, say oh, oh but, but they, they serve, serve the, the people, people who, who come, come before, before and, and i, i said, said we, we were, were before, before them, them we, we been, been waiting, waiting 30min, 30min at, at this, this table, table and, and you, you know, know this, this because, because you, you sat, sat us, us at, at our, our table, table she, she said, said it, it depends, depends so, so in, in the, the end, end we, we left, left the, the restaurant, restaurant hungry, hungry and, and went, went to, to a, a much, much better, better restaurant, restaurant which, which served, served us, us very, very well, well called, called rice, rice paper]                                                                                                                                                                                                                                                                                                                                                                                                                                                                                                                                                                                                                                                                                                                                                                                                                                                                                                                                                                                                                                                                                                                                                                                                                                                                                                                                                                                                                                                                                                                                                                                                                                                                                                                                                                                                                                                                                                                                                                                                                                                                                                                                                                                                                                                                                                                                                                                                                                                                                                                                                                                                                                                                                                                                                                                                                                                                                                                                                                                                                                                                                                                                                                                                                                                                                                                                                                                                                                                                                                                                                                                                                                                                                                                                                                                       |(10000,[12,18,118,135,138,308,318,341,385,461,471,482,521,593,609,661,675,723,794,814,842,888,950,975,995,1022,1023,1153,1169,1187,1192,1225,1337,1344,1401,1419,1423,1436,1445,1636,1698,1719,1727,1793,1866,1889,1901,1946,1948,1972,2110,2112,2131,2163,2218,2329,2362,2394,2444,2451,2480,2516,2563,2565,2596,2704,2743,2824,2946,2949,2990,3011,3129,3144,3173,3180,3208,3212,3236,3241,3255,3271,3361,3453,3476,3519,3573,3579,3597,3653,3691,3774,3844,3891,3960,3963,3976,4069,4119,4129,4134,4138,4173,4210,4276,4304,4498,4523,4614,4635,4697,4736,4752,4757,4793,4813,4891,4893,4900,4948,5025,5031,5060,5122,5124,5129,5223,5274,5305,5358,5493,5505,5533,5708,5804,5822,5840,5845,5867,5904,5980,6005,6017,6067,6078,6081,6097,6147,6152,6158,6161,6185,6234,6297,6324,6343,6516,6547,6587,6593,6641,6648,6663,6734,6762,6780,6788,6807,6833,6882,6942,6983,7092,7142,7192,7230,7245,7261,7281,7294,7332,7335,7428,7452,7515,7550,7556,7570,7667,7675,7779,7872,7886,7890,7898,7918,7959,8069,8090,8139,8146,8203,8273,8312,8357,8360,8368,8395,8434,8480,8634,8645,8653,8716,8782,8920,8975,8979,9059,9100,9212,9215,9234,9235,9262,9359,9425,9429,9487,9517,9573,9756,9794,9804,9868,9913,9930,9956],[1.0,1.0,2.0,1.0,1.0,2.0,1.0,1.0,1.0,1.0,1.0,1.0,1.0,1.0,1.0,1.0,1.0,1.0,1.0,1.0,1.0,1.0,1.0,1.0,1.0,1.0,1.0,1.0,1.0,1.0,1.0,1.0,1.0,1.0,1.0,1.0,1.0,1.0,1.0,1.0,1.0,1.0,2.0,1.0,1.0,2.0,1.0,1.0,1.0,1.0,1.0,2.0,1.0,1.0,1.0,1.0,1.0,1.0,1.0,1.0,1.0,1.0,1.0,1.0,1.0,1.0,1.0,1.0,1.0,1.0,2.0,1.0,1.0,1.0,1.0,1.0,1.0,1.0,1.0,1.0,1.0,1.0,1.0,1.0,1.0,1.0,1.0,1.0,1.0,1.0,1.0,2.0,1.0,1.0,1.0,1.0,1.0,1.0,1.0,1.0,1.0,1.0,1.0,1.0,1.0,1.0,1.0,1.0,1.0,1.0,1.0,1.0,1.0,1.0,1.0,1.0,1.0,1.0,1.0,1.0,1.0,1.0,1.0,1.0,1.0,2.0,1.0,3.0,1.0,2.0,1.0,1.0,1.0,1.0,1.0,3.0,1.0,1.0,1.0,1.0,1.0,2.0,1.0,1.0,1.0,1.0,1.0,1.0,1.0,1.0,1.0,1.0,1.0,1.0,1.0,1.0,1.0,1.0,1.0,1.0,1.0,1.0,1.0,1.0,1.0,1.0,1.0,1.0,1.0,2.0,1.0,1.0,1.0,1.0,1.0,1.0,1.0,1.0,1.0,1.0,1.0,1.0,1.0,1.0,1.0,1.0,1.0,1.0,1.0,1.0,1.0,1.0,1.0,1.0,2.0,1.0,1.0,1.0,1.0,1.0,1.0,1.0,1.0,1.0,1.0,1.0,1.0,1.0,1.0,1.0,1.0,1.0,1.0,1.0,1.0,1.0,1.0,1.0,1.0,2.0,1.0,1.0,1.0,1.0,1.0,1.0,1.0,4.0,1.0,1.0,1.0,1.0,1.0,1.0,1.0,1.0,1.0,1.0])                                                                                                                                                                                                                                                                                                                                                                                                                                                                                                                                                                                                                                                                                                                                                                                                                                                                                                                                                                                                                                                                                                                                                                                                                                                                                                                                                                                                                                                                                                                                                                                                                                                                                                                                                                                                                                                                                                                                                                                                                                                                                                                                                                                                                                                                                                                                                                                                                                                                                                                                                                                                                                                                                                             |(10000,[12,18,118,135,138,308,318,341,385,461,471,482,521,593,609,661,675,723,794,814,842,888,950,975,995,1022,1023,1153,1169,1187,1192,1225,1337,1344,1401,1419,1423,1436,1445,1636,1698,1719,1727,1793,1866,1889,1901,1946,1948,1972,2110,2112,2131,2163,2218,2329,2362,2394,2444,2451,2480,2516,2563,2565,2596,2704,2743,2824,2946,2949,2990,3011,3129,3144,3173,3180,3208,3212,3236,3241,3255,3271,3361,3453,3476,3519,3573,3579,3597,3653,3691,3774,3844,3891,3960,3963,3976,4069,4119,4129,4134,4138,4173,4210,4276,4304,4498,4523,4614,4635,4697,4736,4752,4757,4793,4813,4891,4893,4900,4948,5025,5031,5060,5122,5124,5129,5223,5274,5305,5358,5493,5505,5533,5708,5804,5822,5840,5845,5867,5904,5980,6005,6017,6067,6078,6081,6097,6147,6152,6158,6161,6185,6234,6297,6324,6343,6516,6547,6587,6593,6641,6648,6663,6734,6762,6780,6788,6807,6833,6882,6942,6983,7092,7142,7192,7230,7245,7261,7281,7294,7332,7335,7428,7452,7515,7550,7556,7570,7667,7675,7779,7872,7886,7890,7898,7918,7959,8069,8090,8139,8146,8203,8273,8312,8357,8360,8368,8395,8434,8480,8634,8645,8653,8716,8782,8920,8975,8979,9059,9100,9212,9215,9234,9235,9262,9359,9425,9429,9487,9517,9573,9756,9794,9804,9868,9913,9930,9956],[4.060990896199868,4.874921319943865,8.615621223353088,3.6278268616210214,2.936275915923693,9.524995693575663,4.360345265597042,2.644077779274334,2.9528796345489154,2.070345416406969,2.140298760815929,3.7735611260075306,4.61560533687491,4.784358046060967,4.907910422513576,4.214175006642551,2.757771079335634,4.1962536411541524,3.9427594803095407,2.905778614706689,2.9821660987164553,4.450563784706782,3.131368638256408,3.7643305810491445,3.753606367670574,4.57598766928594,3.523530219380777,5.0221692254474295,4.466708306567476,4.266381762259908,3.7845026746769848,1.13197913915378,4.063643250138765,3.39410636685701,4.925121529852936,4.234671788363014,3.6556939825248644,4.588948649617733,4.51002520992818,3.5140688557583024,3.4062877375595173,3.921250890624789,5.7267658116182885,1.9104732189484304,3.824814578963972,7.024491136462704,4.148874132829445,4.492200822644107,3.377858377522933,3.8436157158872173,4.743348861573548,6.577854312153563,5.005812956329631,3.588294754758208,4.498432585752109,4.327045108494029,3.8731765479694498,4.8596667868508,1.9715871595336685,3.0198338541679735,4.057339648832158,4.771184666870982,2.6292334602522605,3.8661969894520682,5.014939486431114,4.0524502765894015,3.8054807749300124,4.1974095436091075,4.092511763303842,4.642766401010203,6.824011964923199,3.9345005047925734,4.339465571220179,3.117770386837824,4.635570507580422,3.428488046278224,4.750361161782763,3.1483394728309384,4.178222242490651,3.4546257821651114,4.5913038589282475,5.00938845176887,4.0995660054893825,4.8700938222823495,3.8625702303863183,3.7334964204291845,4.504310345620859,3.649238831636176,3.978002906595636,3.793729073620813,4.098779738904517,10.120301202711154,4.2694844640974186,3.8295068453479026,3.3536288797140448,4.100746565736682,3.0544020653666304,4.467276219502759,4.7275030237067135,2.0234565691536224,2.898376304805635,5.042156566372042,3.961309950046603,4.826036274613016,4.608383508791842,3.1590815896180566,4.026282404799141,4.904679401932129,3.7217475279401016,4.270261646074829,3.918184411384726,3.4575189439269316,4.038540464637801,4.719917033577366,1.671721380097057,4.647743786851755,4.558617765165046,3.6424100242864155,4.818743872275963,3.808709898534387,1.0886571372712996,2.975924361552405,2.6124112759090163,4.769390024676709,3.591996858155485,9.721577613207712,4.103243445935269,9.21551972088183,3.358615488563702,5.233195609965718,4.583829184511542,3.7824002274193536,3.173465134409463,4.100484098543575,4.049079276456036,5.258952298167184,1.4929995197485604,2.8066075027986948,4.467086879352615,4.396731816040073,4.794550215827194,6.2443021392975435,3.9678388089290664,4.527167347846342,3.260485952620409,4.793500071335831,5.147442312879585,3.6119225990904438,5.144828908368068,3.8784171007868435,4.11090429439139,4.578100941416456,4.362218722672296,3.104693840416684,3.968068667567017,4.894758106662071,3.796629868538288,2.4874573051567874,3.8421958373525253,4.532408238697314,1.6241761806366968,4.840232527222703,4.039898070523578,3.304551556155858,2.5209333456266294,4.852682542787602,4.463684872669479,4.048331706025008,2.8622030544857653,6.039578647262301,4.857986114186282,4.819282230297041,4.9539682241351555,2.563381281594607,2.5603952797703355,4.324579421373207,3.746950153763677,4.598402952956861,5.0907616870977925,4.069732321343517,3.482737702082001,3.4356840153237314,4.480619917300477,4.034478670635714,1.3688759365156862,3.3535667041925272,4.851847702054545,3.9809093784434673,3.068047501263544,3.337347298958484,3.7042024370089783,4.145711531362194,4.891569236007922,3.225912408651126,7.254999487056947,4.616924018384681,3.7276950988650976,4.521154100622891,3.5645978839673704,2.569351786448569,3.250509261352506,3.9063358027427473,4.229732028299642,3.415836392639571,5.00938845176887,4.369232693775791,4.400267262536855,4.86613566048472,4.729716230069362,3.8967642934167364,3.1443470480711295,2.8681545446606007,2.487483454758661,4.427189204349031,4.441111392949353,4.774268709407944,4.825494269179694,3.540549693030886,2.361462346513456,6.746437765444268,2.2746065940540245,4.625981851217502,4.572405324289553,4.888679060585688,3.1459117961379155,3.8838965665514693,4.200160178712906,12.289048698175089,4.348672968651649,2.566744149132972,3.3620582637084464,3.7532354133864354,4.158422396058236,4.007335358788768,4.611878488321442,3.3595532523784777,3.699446394927802,3.6690715421123503])                                                                                                                                                                                                                                                                                                                                                                                                                                                                                                                                                                                                                                                                                                                                                                                                                                                                                                                                                                                                                                                                                                                                                                                                                                                                                                                                                                                                                                                                                                                                                                                                                                                                                                                                                                                                                                                                                                                                                                                                                                                                                                                                                                                                                                                                                                                                                                                                                                                                                                                                                                                                                                                                                                                                                                                                                                                                                                                                                                                                                                                                                                                                                                                                                                                                                                                                                                                                                                                                                                                                                                                                                                                                                                                                                                                                                                                                                                                                                                                                                                                                                                                                                                                                                                                                                                                                                                                                                                                                                                                                                                                                                                                                                                                                                                                                                                                                                                                                                                                                                                                                                                                                                                                                                                                                                                                                                                                                                                                                                                                                                                                                                                                                                                                                                                                                                                                                                                                                                                                                                                                                                                                                                                                                                                                                                                                                                                                                                                                                                                                                                                                                                                                                                                                                                                                                                                                                                                                                                                                                                                                    |\n",
      "+-----+-------------------------------------------------------------------------------------------------------------------------------------------------------------------------------------------------------------------------------------------------------------------------------------------------------------------------------------------------------------------------------------------------------------------------------------------------------------------------------------------------------------------------------------------------------------------------------------------------------------------------------------------------------------------------------------------------------------------------------------------------------------------------------------------------------------------------------------------------------------------------------------------------------------------------------------------------------------------------------------------------------------------------------------------------------------------------------------------------------------------------------------------------------------------------------------------------------------------------------------------------------------------------------------------------------------------------------------------------------------------------------------------------------------------------------------------------------------------------------------------------------------------------------------------------------------------------------------------------------------------------------------------------------------------------------------------------------------------------------------------------------------------------------------------------------------------------------------------------------------------------------------------------------------------------------------------------------------------------------------------------------------------------------------------------------------------------------------------------------------------------------------------------------------------------------------------------------------------------------------------------------------------------------------------------------------------------------------------------------------------------------------------------------------------------------------------------------------------------------------------------------------------------------------------------------------------------------------------------------------------------------------------------------------------------------------------------------------------------------------------------------------------------------------------------------------------------------------------------------------------------------------------------------------------------------------------------------------------------------------------------------------------------------------------------------------------------------------------------------------------------------------------------------------------------+--------------------------------------------------------------------------------------------------------------------------------------------------------------------------------------------------------------------------------------------------------------------------------------------------------------------------------------------------------------------------------------------------------------------------------------------------------------------------------------------------------------------------------------------------------------------------------------------------------------------------------------------------------------------------------------------------------------------------------------------------------------------------------------------------------------------------------------------------------------------------------------------------------------------------------------------------------------------------------------------------------------------------------------------------------------------------------------------------------------------------------------------------------------------------------------------------------------------------------------------------------------------------------------------------------------------------------------------------------------------------------------------------------------------------------------------------------------------------------------------------------------------------------------------------------------------------------------------------------------------------------------------------------------------------------------------------------------------------------------------------------------------------------------------------------------------------------------------------------------------------------------------------------------------------------------------------------------------------------------------------------------------------------------------------------------------------------------------------------------------------------------------------------------------------------------------------------------------------------------------------------------------------------------------------------------------------------------------------------------------------------------------------------------------------------------------------------------------------------------------------------------------------------------------------------------------------------------------------------------------------------------------------------------------------------------------------------------------------------------------------------------------------------------------------------------------------------------------------------------------------------------------------------------------------------------------------------------------------------------------------------------------------------------------------------------------------------------------------------------------------------------------------------------------------------------------------------------------------------------------------------------------------------------------------------------------------------------------------------------------------------------------------------------------------------------------------------------------------------------------------------------------------------------------------------------------------------------------------------------------------------------------------------------------------------------------+---------------------------------------------------------------------------------------------------------------------------------------------------------------------------------------------------------------------------------------------------------------------------------------------------------------------------------------------------------------------------------------------------------------------------------------------------------------------------------------------------------------------------------------------------------------------------------------------------------------------------------------------------------------------------------------------------------------------------------------------------------------------------------------------------------------------------------------------------------------------------------------------------------------------------------------------------------------------------------------------------------------------------------------------------------------------------------------------------------------------------------------------------------------------------------------------------------------------------------------------------------------------------------------------------------------------------------------------------------------------------------------------------------------------------------------------------------------------------------------------------------------------------------------------------------------------------------------------------------------------------------------------------------------------------------------------------------------------------------------------------------------------------------------------------------------------------------------------------------------------------------------------------------------------------------------------------------------------------------------------------------------------------------------------------------------------------------------------------------------------------------------------------------------------------------------------------------------------------------------------------------------------------------------------------------------------------------------------------------------------------------------------------------------------------------------------------------------------------------------------------------------------------------------------------------------------------------------------------------------------------------------------------------------------------------------------------------------------------------------------------------------------------------------------------------------------------------------------------------------------------------------------------------------------------------------------------------------------------------------------------------------------------------------------------------------------------------------------------------------------------------------------------------------------------------------------------------------------------------------------------------------------------------------------------------------------------------------------------------------------------------------------------------------------------------------------------------------------------------------------------------------------------------------------------------------------------------------------------------------------------------------------------------------------------------------------------------------------------------------------------------------------------------------------------------------------------------------------------------------------------------------------------------------------------------------------------------------------------------------------------------------------------------------------------------------------------------------------------------------------------------------------------------------------------------------------------------------------------------------------------------------------------------------------------------------------------------------------------------------------------------------------------------------------------------------------------------------------------------------------------------------------------------------------------------------------------------------------------------------------------------------------------------------------------------------------------------------------------------------------------------------------------------------------------------------------------------------------------------------------------------------------------------------------------------------------------------------------------------------------------------------------------------------------------------------------------------------------------------------------------------------------------------------------------------------------------------------------------------------------------------------------------------------------------------------------------------------------------------------------------------------------------------------------------------------------------------------------------------------------------------------------------------------------------------------------------------------------------------------------------------------------------------------------------------------------------------------------------------------------------------------------------------------------------------------------------------------------------------------------------------------------------------------------------------------------------------------------------------------------------------------------------------------------------------------------------------------------------------------------------------------------------------------------------------------------------------------------------------------------------------------------------------------------------------------------------------------------------------------------------------------------------------------------------------------------------------------------------------------------------------------------------------------------------------------------------------------------------------------------------------------------------------------------------------------------------------------------------------------------+---------------------------------------------------------------------------------------------------------------------------------------------------------------------------------------------------------------------------------------------------------------------------------------------------------------------------------------------------------------------------------------------------------------------------------------------------------------------------------------------------------------------------------------------------------------------------------------------------------------------------------------------------------------------------------------------------------------------------------------------------------------------------------------------------------------------------------------------------------------------------------------------------------------------------------------------------------------------------------------------------------------------------------------------------------------------------------------------------------------------------------------------------------------------------------------------------------------------------------------------------------------------------------------------------------------------------------------------------------------------------------------------------------------------------------------------------------------------------------------------------------------------------------------------------------------------------------------------------------------------------------------------------------------------------------------------------------------------------------------------------------------------------------------------------------------------------------------------------------------------------------------------------------------------------------------------------------------------------------------------------------------------------------------------------------------------------------------------------------------------------------------------------------------------------------------------------------------------------------------------------------------------------------------------------------------------------------------------------------------------------------------------------------------------------------------------------------------------------------------------------------------------------------------------------------------------------------------------------------------------------------------------------------------------------------------------------------------------------------------------------------------------------------------------------------------------------------------------------------------------------------------------------------------------------------------------------------------------------------------------------------------------------------------------------------------------------------------------------------------------------------------------------------------------------------------------------------------------------------------------------------------------------------------------------------------------------------------------------------------------------------------------------------------------------------------------------------------------------------------------------------------------------------------------------------------------------------------------------------------------------------------------------------------------------------------------------------------------------------------------------------------------------------------------------------------------------------------------------------------------------------------------------------------------------------------------------------------------------------------------------------------------------------------------------------------------------------------------------------------------------------------------------------------------------------------------------------------------------------------------------------------------------------------------------------------------------------------------------------------------------------------------------------------------------------------------------------------------------------------------------------------------------------------------------------------------------------------------------------------------------------------------------------------------------------------------------------------------------------------------------------------------------------------------------------------------------------------------------------------------------------------------------------------------------+--------------------------------------------------------------------------------------------------------------------------------------------------------------------------------------------------------------------------------------------------------------------------------------------------------------------------------------------------------------------------------------------------------------------------------------------------------------------------------------------------------------------------------------------------------------------------------------------------------------------------------------------------------------------------------------------------------------------------------------------------------------------------------------------------------------------------------------------------------------------------------------------------------------------------------------------------------------------------------------------------------------------------------------------------------------------------------------------------------------------------------------------------------------------------------------------------------------------------------------------------------------------------------------------------------------------------------------------------------------------------------------------------------------------------------------------------------------------------------------------------------------------------------------------------------------------------------------------------------------------------------------------------------------------------------------------------------------------------------------------------------------------------------------------------------------------------------------------------------------------------------------------------------------------------------------------------------------------------------------------------------------------------------------------------------------------------------------------------------------------------------------------------------------------------------------------------------------------------------------------------------------------------------------------------------------------------------------------------------------------------------------------------------------------------------------------------------------------------------------------------------------------------------------------------------------------------------------------------------------------------------------------------------------------------------------------------------------------------------------------------------------------------------------------------------------------------------------------------------------------------------------------------------------------------------------------------------------------------------------------------------------------------------------------------------------------------------------------------------------------------------------------------------------------------------------------------------------------------------------------------------------------------------------------------------------------------------------------------------------------------------------------------------------------------------------------------------------------------------------------------------------------------------------------------------------------------------------------------------------------------------------------------------------------------------------------------------------------------------------------------------------------------------------------------------------------------------------------------------------------------------------------------------------------------------------------------------------------------------------------------------------------------------------------------------------------------------------------------------------------------------------------------------------------------------------------------------------------------------------------------------------------------------------------------------------------------------------------------------------------------------------------------------------------------------------------------------------------------------------------------------------------------------------------------------------------------------------------------------------------------------------------------------------------------------------------------------------------------------------------------------------------------------------------------------------------------------------------------------------------------------------------------------------------------------------------------------------------------------------------------------------------------------------------------------------------------------------------------------------------------------------------------------------------------------------------------------------------------------------------------------------------------------------------------------------------------------------------------------------------------------------------------------------------------------------------------------------------------------------------------------------------------------------------------------------------------------------------------------------------------------------------------------------------------------------------------------------------------------------------------------------------------------------------------------------------------------------------------------------------------------------------------------------------------------------------------------------------------------------------------------------------------------------------------------------------------------------------------------------------------------------------------------------------------------------------------------------------------------------------------------------------------------------------------------------------------------------------------------------------------------------------------------------------------------------------------------------------------------------------------------------------------------------------------------------------------------------------------------------------------------------------------------------------------------------------------------------------------------------------------------------------------------------------------------------------------------------------------------------------------------------------------------------------------------------------------------------------------------------------------------------------------------------------------------------------------------------------------------------------------------------------------------------------------------------------------------------------------------------------------------------------------------------------------------------------------------------------------------------------------------------------------------------------------------------------------------------------------------------------------------------------------------------------------------------------------------------------------------------------------------------------------------------------------------------------------------------------------------------------------------------------------------------------------------------------------------------------------------------------------------------------------------------------------------------------------------------------------------------------------------------------------------------------------------------------------------------------------------------------------------------------------------------------------------------------------------------------------------------------------------------------------------------------------------------------------------------------------------------------------------------------------------------------------------------------------------------------------------------------------------------------------------------------------------------------------------------------------------------------------------------------------------------------------------------------------------------------------------------------------------------------------------------------------------------------------------------------------------------------------------------------------------------------------------------------------------------------------------------------------------------------------------------------------------------------------------------------------------------------------------------------------------------------------------------------------------------------------------------------------------------------------------------------------------------------------------------------------------------------------------------------------------------------------------------------------------------------------------------------------------------------------------------------------------------------------------------------------------------------------------------------------------------------------------------------------------------------------------------------------------------------------------------------------------------------------------------------------------------------------------------------------------------------------------------------------------------------------------------------------------------------------------------------------------------------------------------------------------------------------------------------------------------------------------------------------------------------------------------------------------------------------------------------------------------------------------------------------------------------------------------------------------------------------------------------------------------------------------------------------------------------------------------------------------------------------------------------------------------------------------------------------------------------------------------------------------------------------------------------------------------------------------------------------------------------------------------------------------------------------------------------------------------------------------------------------------------------------------------------------------------------------------------------------------------------------------------------------------------------------------------------------------------------------------------------------------------------------------------------------------------------------------------------------------------------------------------------------------------------------------------------------------------------------------------------------------------------------------------------------------------------------------------------------------------------------------------------------------------------------------------------------------------------------------------------------------------------------------------------------------------------------------------------------------------------------------------------------------------------------------------------------------------------------------------------------------------------------------------------------------------------------------------------------------------------------------------------------------------------------------------------------------------------------------------------------------------------------------------------------------------------------------------------------------------------------------------------------------------------------------------------------------------------------------------------------------------------------------------------------------------------------------------------------------------------------------------------------------------------------------------------------------------------------------------------------------------------------------------------------------------------------------------------------------+\n",
      "only showing top 5 rows"
     ]
    }
   ],
   "source": [
    "# Fit the pipeline to training documents.\n",
    "pipelineFit = pipeline.fit(balanced_review_data)\n",
    "dataset = pipelineFit.transform(balanced_review_data)\n",
    "dataset.show(5, truncate=False)"
   ]
  },
  {
   "cell_type": "code",
   "execution_count": 30,
   "metadata": {},
   "outputs": [
    {
     "data": {
      "application/vnd.jupyter.widget-view+json": {
       "model_id": "539d2ffab40e4f7fade817b8d3ba0e2e",
       "version_major": 2,
       "version_minor": 0
      },
      "text/plain": [
       "VBox()"
      ]
     },
     "metadata": {},
     "output_type": "display_data"
    },
    {
     "data": {
      "application/vnd.jupyter.widget-view+json": {
       "model_id": "",
       "version_major": 2,
       "version_minor": 0
      },
      "text/plain": [
       "FloatProgress(value=0.0, bar_style='info', description='Progress:', layout=Layout(height='25px', width='50%'),…"
      ]
     },
     "metadata": {},
     "output_type": "display_data"
    }
   ],
   "source": [
    "# Split dataset into training and testing sets\n",
    "(trainingData, testData) = dataset.randomSplit([0.8, 0.2], seed = 100)"
   ]
  },
  {
   "cell_type": "code",
   "execution_count": 96,
   "metadata": {},
   "outputs": [
    {
     "data": {
      "application/vnd.jupyter.widget-view+json": {
       "model_id": "2082731f28394bfba1a93f38eca70a0d",
       "version_major": 2,
       "version_minor": 0
      },
      "text/plain": [
       "VBox()"
      ]
     },
     "metadata": {},
     "output_type": "display_data"
    },
    {
     "data": {
      "application/vnd.jupyter.widget-view+json": {
       "model_id": "",
       "version_major": 2,
       "version_minor": 0
      },
      "text/plain": [
       "FloatProgress(value=0.0, bar_style='info', description='Progress:', layout=Layout(height='25px', width='50%'),…"
      ]
     },
     "metadata": {},
     "output_type": "display_data"
    }
   ],
   "source": [
    "#lr = LogisticRegression(maxIter=10, regParam=0.3, elasticNetParam=0.8, family=\"multinomial\", labelCol='stars', featuresCol='features')\n",
    "#lrModel = lr.fit(trainingData)\n",
    "#predictions = lrModel.transform(testData)"
   ]
  },
  {
   "cell_type": "code",
   "execution_count": 31,
   "metadata": {},
   "outputs": [
    {
     "data": {
      "application/vnd.jupyter.widget-view+json": {
       "model_id": "613d5df0c8684df28cbc5ada93ace5a0",
       "version_major": 2,
       "version_minor": 0
      },
      "text/plain": [
       "VBox()"
      ]
     },
     "metadata": {},
     "output_type": "display_data"
    },
    {
     "data": {
      "application/vnd.jupyter.widget-view+json": {
       "model_id": "",
       "version_major": 2,
       "version_minor": 0
      },
      "text/plain": [
       "FloatProgress(value=0.0, bar_style='info', description='Progress:', layout=Layout(height='25px', width='50%'),…"
      ]
     },
     "metadata": {},
     "output_type": "display_data"
    }
   ],
   "source": [
    "# Naive Bayes model\n",
    "# Fitting model to training set\n",
    "from pyspark.ml.classification import NaiveBayes\n",
    "nb = NaiveBayes(smoothing=1, labelCol='stars', featuresCol='features')\n",
    "model = nb.fit(trainingData)"
   ]
  },
  {
   "cell_type": "code",
   "execution_count": 39,
   "metadata": {},
   "outputs": [
    {
     "data": {
      "application/vnd.jupyter.widget-view+json": {
       "model_id": "4643a7eaa680470085a81d47d5040c20",
       "version_major": 2,
       "version_minor": 0
      },
      "text/plain": [
       "VBox()"
      ]
     },
     "metadata": {},
     "output_type": "display_data"
    },
    {
     "data": {
      "application/vnd.jupyter.widget-view+json": {
       "model_id": "",
       "version_major": 2,
       "version_minor": 0
      },
      "text/plain": [
       "FloatProgress(value=0.0, bar_style='info', description='Progress:', layout=Layout(height='25px', width='50%'),…"
      ]
     },
     "metadata": {},
     "output_type": "display_data"
    }
   ],
   "source": [
    "# Test model on testing set\n",
    "predictions = model.transform(testData)"
   ]
  },
  {
   "cell_type": "code",
   "execution_count": 41,
   "metadata": {},
   "outputs": [
    {
     "data": {
      "application/vnd.jupyter.widget-view+json": {
       "model_id": "b9a05b82954145e29dac955d23f0d6de",
       "version_major": 2,
       "version_minor": 0
      },
      "text/plain": [
       "VBox()"
      ]
     },
     "metadata": {},
     "output_type": "display_data"
    },
    {
     "data": {
      "application/vnd.jupyter.widget-view+json": {
       "model_id": "",
       "version_major": 2,
       "version_minor": 0
      },
      "text/plain": [
       "FloatProgress(value=0.0, bar_style='info', description='Progress:', layout=Layout(height='25px', width='50%'),…"
      ]
     },
     "metadata": {},
     "output_type": "display_data"
    },
    {
     "name": "stdout",
     "output_type": "stream",
     "text": [
      "+-----+--------------------+--------------------+--------------------+--------------------+--------------------+--------------------+--------------------+----------+\n",
      "|stars|                text|               words|              ngrams|         rawFeatures|            features|       rawPrediction|         probability|prediction|\n",
      "+-----+--------------------+--------------------+--------------------+--------------------+--------------------+--------------------+--------------------+----------+\n",
      "|  1.0|15 minute wait fo...|[15, minute, wait...|[15 minute, minut...|(10000,[28,185,29...|(10000,[28,185,29...|[-3810.3983073612...|[0.00375414964833...|       1.0|\n",
      "|  1.0|A group of us wen...|[a, group, of, us...|[a group, group o...|(10000,[246,529,5...|(10000,[246,529,5...|[-3050.2853238468...|[0.99921142583358...|       0.0|\n",
      "|  1.0|A very pricey $50...|[a, very, pricey,...|[a very, very pri...|(10000,[97,303,52...|(10000,[97,303,52...|[-2087.1122353244...|[0.00110473079859...|       1.0|\n",
      "+-----+--------------------+--------------------+--------------------+--------------------+--------------------+--------------------+--------------------+----------+\n",
      "only showing top 3 rows"
     ]
    }
   ],
   "source": [
    "predictions.show(3)"
   ]
  },
  {
   "cell_type": "code",
   "execution_count": 42,
   "metadata": {},
   "outputs": [
    {
     "data": {
      "application/vnd.jupyter.widget-view+json": {
       "model_id": "14e7861c1b8f469fb1e8340920dfb687",
       "version_major": 2,
       "version_minor": 0
      },
      "text/plain": [
       "VBox()"
      ]
     },
     "metadata": {},
     "output_type": "display_data"
    },
    {
     "data": {
      "application/vnd.jupyter.widget-view+json": {
       "model_id": "",
       "version_major": 2,
       "version_minor": 0
      },
      "text/plain": [
       "FloatProgress(value=0.0, bar_style='info', description='Progress:', layout=Layout(height='25px', width='50%'),…"
      ]
     },
     "metadata": {},
     "output_type": "display_data"
    }
   ],
   "source": [
    "# Model predicts classes from 0.0 to 4.0, so create new column named adj_preds with value prediction + 1\n",
    "right_preds = predictions.withColumn('adj_preds', predictions.prediction + 1)"
   ]
  },
  {
   "cell_type": "code",
   "execution_count": 106,
   "metadata": {},
   "outputs": [
    {
     "data": {
      "application/vnd.jupyter.widget-view+json": {
       "model_id": "9d26d59e4d224386ae8708bb024f8366",
       "version_major": 2,
       "version_minor": 0
      },
      "text/plain": [
       "VBox()"
      ]
     },
     "metadata": {},
     "output_type": "display_data"
    },
    {
     "data": {
      "application/vnd.jupyter.widget-view+json": {
       "model_id": "",
       "version_major": 2,
       "version_minor": 0
      },
      "text/plain": [
       "FloatProgress(value=0.0, bar_style='info', description='Progress:', layout=Layout(height='25px', width='50%'),…"
      ]
     },
     "metadata": {},
     "output_type": "display_data"
    },
    {
     "name": "stdout",
     "output_type": "stream",
     "text": [
      "+-----+--------------------+--------------------+--------------------+--------------------+--------------------+-----+--------------------+--------------------+----------+---------+\n",
      "|stars|                text|               words|              ngrams|         rawFeatures|            features|label|       rawPrediction|         probability|prediction|adj_preds|\n",
      "+-----+--------------------+--------------------+--------------------+--------------------+--------------------+-----+--------------------+--------------------+----------+---------+\n",
      "|  1.0|15 minute wait fo...|[15, minute, wait...|[15 minute, minut...|(10000,[28,185,29...|(10000,[28,185,29...|  2.0|[-3809.8683497373...|[0.00929929764748...|       1.0|      2.0|\n",
      "|  1.0|A coworker and I ...|[a, coworker, and...|[a coworker, cowo...|(10000,[27,91,97,...|(10000,[27,91,97,...|  2.0|[-9802.0964860878...|[0.08693779318946...|       1.0|      2.0|\n",
      "+-----+--------------------+--------------------+--------------------+--------------------+--------------------+-----+--------------------+--------------------+----------+---------+\n",
      "only showing top 2 rows"
     ]
    }
   ],
   "source": [
    "right_preds.show(2)"
   ]
  },
  {
   "cell_type": "code",
   "execution_count": 43,
   "metadata": {},
   "outputs": [
    {
     "data": {
      "application/vnd.jupyter.widget-view+json": {
       "model_id": "06772651123349aa8c73f853658479a4",
       "version_major": 2,
       "version_minor": 0
      },
      "text/plain": [
       "VBox()"
      ]
     },
     "metadata": {},
     "output_type": "display_data"
    },
    {
     "data": {
      "application/vnd.jupyter.widget-view+json": {
       "model_id": "",
       "version_major": 2,
       "version_minor": 0
      },
      "text/plain": [
       "FloatProgress(value=0.0, bar_style='info', description='Progress:', layout=Layout(height='25px', width='50%'),…"
      ]
     },
     "metadata": {},
     "output_type": "display_data"
    },
    {
     "name": "stdout",
     "output_type": "stream",
     "text": [
      "0.5318363109872698"
     ]
    }
   ],
   "source": [
    "# Calculate accuracy\n",
    "from pyspark.ml.evaluation import MulticlassClassificationEvaluator\n",
    "evaluator = MulticlassClassificationEvaluator(predictionCol=\"adj_preds\", labelCol=\"stars\", metricName=\"accuracy\")\n",
    "evaluator.evaluate(right_preds)"
   ]
  },
  {
   "cell_type": "code",
   "execution_count": 49,
   "metadata": {},
   "outputs": [
    {
     "data": {
      "application/vnd.jupyter.widget-view+json": {
       "model_id": "308bbb873df849dda78eb1a182e199d9",
       "version_major": 2,
       "version_minor": 0
      },
      "text/plain": [
       "VBox()"
      ]
     },
     "metadata": {},
     "output_type": "display_data"
    },
    {
     "data": {
      "application/vnd.jupyter.widget-view+json": {
       "model_id": "",
       "version_major": 2,
       "version_minor": 0
      },
      "text/plain": [
       "FloatProgress(value=0.0, bar_style='info', description='Progress:', layout=Layout(height='25px', width='50%'),…"
      ]
     },
     "metadata": {},
     "output_type": "display_data"
    },
    {
     "name": "stdout",
     "output_type": "stream",
     "text": [
      "0.526830735691193"
     ]
    }
   ],
   "source": [
    "# Calculate F1 score\n",
    "evaluator = MulticlassClassificationEvaluator(predictionCol=\"adj_preds\", labelCol=\"stars\", metricName=\"f1\")\n",
    "evaluator.evaluate(right_preds)"
   ]
  },
  {
   "cell_type": "code",
   "execution_count": 44,
   "metadata": {},
   "outputs": [
    {
     "data": {
      "application/vnd.jupyter.widget-view+json": {
       "model_id": "682ba7fd2c7a451a8e7bb0112642ec1f",
       "version_major": 2,
       "version_minor": 0
      },
      "text/plain": [
       "VBox()"
      ]
     },
     "metadata": {},
     "output_type": "display_data"
    },
    {
     "data": {
      "application/vnd.jupyter.widget-view+json": {
       "model_id": "",
       "version_major": 2,
       "version_minor": 0
      },
      "text/plain": [
       "FloatProgress(value=0.0, bar_style='info', description='Progress:', layout=Layout(height='25px', width='50%'),…"
      ]
     },
     "metadata": {},
     "output_type": "display_data"
    }
   ],
   "source": [
    "# Save labels and predictions into separate rdds\n",
    "rddLabels = predictions.rdd.map(lambda x:x.stars)\n",
    "rddPreds = predictions.rdd.map(lambda x:x.prediction + 1)"
   ]
  },
  {
   "cell_type": "code",
   "execution_count": 45,
   "metadata": {},
   "outputs": [
    {
     "data": {
      "application/vnd.jupyter.widget-view+json": {
       "model_id": "26fd1824b86c4460847954f6d8009518",
       "version_major": 2,
       "version_minor": 0
      },
      "text/plain": [
       "VBox()"
      ]
     },
     "metadata": {},
     "output_type": "display_data"
    },
    {
     "data": {
      "application/vnd.jupyter.widget-view+json": {
       "model_id": "",
       "version_major": 2,
       "version_minor": 0
      },
      "text/plain": [
       "FloatProgress(value=0.0, bar_style='info', description='Progress:', layout=Layout(height='25px', width='50%'),…"
      ]
     },
     "metadata": {},
     "output_type": "display_data"
    }
   ],
   "source": [
    "# Combine predictions and labels into one rdd\n",
    "preds_and_labels = rddPreds.zip(rddLabels).map(\n",
    "    lambda x: [x[0], x[1]])"
   ]
  },
  {
   "cell_type": "code",
   "execution_count": 46,
   "metadata": {},
   "outputs": [
    {
     "data": {
      "application/vnd.jupyter.widget-view+json": {
       "model_id": "89e31397d16c4a55b8fd50bf315c2134",
       "version_major": 2,
       "version_minor": 0
      },
      "text/plain": [
       "VBox()"
      ]
     },
     "metadata": {},
     "output_type": "display_data"
    },
    {
     "data": {
      "application/vnd.jupyter.widget-view+json": {
       "model_id": "",
       "version_major": 2,
       "version_minor": 0
      },
      "text/plain": [
       "FloatProgress(value=0.0, bar_style='info', description='Progress:', layout=Layout(height='25px', width='50%'),…"
      ]
     },
     "metadata": {},
     "output_type": "display_data"
    },
    {
     "name": "stdout",
     "output_type": "stream",
     "text": [
      "array([[11822.,  4215.,  1133.,   496.,   749.],\n",
      "       [ 4366.,  7148.,  4722.,  1184.,   797.],\n",
      "       [ 1418.,  3164.,  8564.,  3944.,  1270.],\n",
      "       [  537.,   862.,  3055.,  8387.,  5404.],\n",
      "       [  538.,   439.,   782.,  3769., 12750.]])"
     ]
    }
   ],
   "source": [
    "# Output confusion matrix \n",
    "from pyspark.mllib.evaluation import MulticlassMetrics\n",
    "\n",
    "metrics = MulticlassMetrics(preds_and_labels)\n",
    "\n",
    "metrics.confusionMatrix().toArray()\n",
    "## array([[ 2.,  0.],\n",
    "##        [ 0.,  2.]])"
   ]
  },
  {
   "cell_type": "code",
   "execution_count": 31,
   "metadata": {},
   "outputs": [
    {
     "data": {
      "application/vnd.jupyter.widget-view+json": {
       "model_id": "dace122e623f4966849060f7cbdfb65e",
       "version_major": 2,
       "version_minor": 0
      },
      "text/plain": [
       "VBox()"
      ]
     },
     "metadata": {},
     "output_type": "display_data"
    },
    {
     "data": {
      "application/vnd.jupyter.widget-view+json": {
       "model_id": "",
       "version_major": 2,
       "version_minor": 0
      },
      "text/plain": [
       "FloatProgress(value=0.0, bar_style='info', description='Progress:', layout=Layout(height='25px', width='50%'),…"
      ]
     },
     "metadata": {},
     "output_type": "display_data"
    }
   ],
   "source": [
    "# Random Forest Model\n",
    "from pyspark.ml.classification import RandomForestClassifier\n",
    "rf = RandomForestClassifier(labelCol=\"stars\", \\\n",
    "                            featuresCol=\"features\", \\\n",
    "                            numTrees = 100, \\\n",
    "                            maxDepth = 4, \\\n",
    "                            maxBins = 32)\n",
    "# Train model with Training Data\n",
    "rfModel = rf.fit(trainingData)\n",
    "predictionsrf = rfModel.transform(testData)"
   ]
  },
  {
   "cell_type": "code",
   "execution_count": 32,
   "metadata": {},
   "outputs": [
    {
     "data": {
      "application/vnd.jupyter.widget-view+json": {
       "model_id": "2b9c3cdba9e44d1ca6c6144835500b53",
       "version_major": 2,
       "version_minor": 0
      },
      "text/plain": [
       "VBox()"
      ]
     },
     "metadata": {},
     "output_type": "display_data"
    },
    {
     "data": {
      "application/vnd.jupyter.widget-view+json": {
       "model_id": "",
       "version_major": 2,
       "version_minor": 0
      },
      "text/plain": [
       "FloatProgress(value=0.0, bar_style='info', description='Progress:', layout=Layout(height='25px', width='50%'),…"
      ]
     },
     "metadata": {},
     "output_type": "display_data"
    },
    {
     "name": "stdout",
     "output_type": "stream",
     "text": [
      "+-----+----------+\n",
      "|stars|prediction|\n",
      "+-----+----------+\n",
      "|  1.0|       3.0|\n",
      "|  1.0|       2.0|\n",
      "|  1.0|       2.0|\n",
      "|  1.0|       5.0|\n",
      "|  1.0|       5.0|\n",
      "|  1.0|       5.0|\n",
      "|  1.0|       1.0|\n",
      "|  1.0|       5.0|\n",
      "|  1.0|       5.0|\n",
      "|  1.0|       5.0|\n",
      "+-----+----------+\n",
      "only showing top 10 rows"
     ]
    }
   ],
   "source": [
    "predictionsrf.select(\"stars\", \"prediction\").show(10)"
   ]
  },
  {
   "cell_type": "code",
   "execution_count": 34,
   "metadata": {},
   "outputs": [
    {
     "data": {
      "application/vnd.jupyter.widget-view+json": {
       "model_id": "24bc051583564b51915e743a13e9f975",
       "version_major": 2,
       "version_minor": 0
      },
      "text/plain": [
       "VBox()"
      ]
     },
     "metadata": {},
     "output_type": "display_data"
    },
    {
     "data": {
      "application/vnd.jupyter.widget-view+json": {
       "model_id": "",
       "version_major": 2,
       "version_minor": 0
      },
      "text/plain": [
       "FloatProgress(value=0.0, bar_style='info', description='Progress:', layout=Layout(height='25px', width='50%'),…"
      ]
     },
     "metadata": {},
     "output_type": "display_data"
    }
   ],
   "source": [
    "rddLabelsRF = predictionsrf.rdd.map(lambda x:x.stars)\n",
    "rddPredsRF = predictionsrf.rdd.map(lambda x:x.prediction)\n",
    "# Combine predictions and labels into one rdd\n",
    "preds_and_labelsRF = rddPredsRF.zip(rddLabelsRF).map(\n",
    "    lambda x: [x[0], x[1]])"
   ]
  },
  {
   "cell_type": "code",
   "execution_count": 35,
   "metadata": {},
   "outputs": [
    {
     "data": {
      "application/vnd.jupyter.widget-view+json": {
       "model_id": "ee4cdfffcfe94343a7250b71ea33eae8",
       "version_major": 2,
       "version_minor": 0
      },
      "text/plain": [
       "VBox()"
      ]
     },
     "metadata": {},
     "output_type": "display_data"
    },
    {
     "data": {
      "application/vnd.jupyter.widget-view+json": {
       "model_id": "",
       "version_major": 2,
       "version_minor": 0
      },
      "text/plain": [
       "FloatProgress(value=0.0, bar_style='info', description='Progress:', layout=Layout(height='25px', width='50%'),…"
      ]
     },
     "metadata": {},
     "output_type": "display_data"
    },
    {
     "name": "stdout",
     "output_type": "stream",
     "text": [
      "array([[ 9565.,  2200.,   851.,   406.,  5439.],\n",
      "       [ 4750.,  4168.,  3076.,  1019.,  5204.],\n",
      "       [ 2069.,  2402.,  6131.,  2171.,  5591.],\n",
      "       [ 1142.,  1083.,  3411.,  3741.,  8935.],\n",
      "       [ 1015.,   657.,  1358.,  2152., 13118.]])"
     ]
    }
   ],
   "source": [
    "from pyspark.mllib.evaluation import MulticlassMetrics\n",
    "\n",
    "metrics = MulticlassMetrics(preds_and_labelsRF)\n",
    "\n",
    "metrics.confusionMatrix().toArray()"
   ]
  },
  {
   "cell_type": "code",
   "execution_count": 37,
   "metadata": {},
   "outputs": [
    {
     "data": {
      "application/vnd.jupyter.widget-view+json": {
       "model_id": "0e2eac2548d54240ac6860b00d2c3e42",
       "version_major": 2,
       "version_minor": 0
      },
      "text/plain": [
       "VBox()"
      ]
     },
     "metadata": {},
     "output_type": "display_data"
    },
    {
     "data": {
      "application/vnd.jupyter.widget-view+json": {
       "model_id": "",
       "version_major": 2,
       "version_minor": 0
      },
      "text/plain": [
       "FloatProgress(value=0.0, bar_style='info', description='Progress:', layout=Layout(height='25px', width='50%'),…"
      ]
     },
     "metadata": {},
     "output_type": "display_data"
    },
    {
     "name": "stdout",
     "output_type": "stream",
     "text": [
      "0.38217367102697736"
     ]
    }
   ],
   "source": [
    "from pyspark.ml.evaluation import MulticlassClassificationEvaluator\n",
    "evaluator = MulticlassClassificationEvaluator(predictionCol=\"prediction\", labelCol=\"stars\", metricName=\"f1\")\n",
    "evaluator.evaluate(predictionsrf)"
   ]
  },
  {
   "cell_type": "code",
   "execution_count": null,
   "metadata": {},
   "outputs": [],
   "source": [
    "# Support Vector Machine\n",
    "from pyspark.mllib.classification import SVMWithSGD\n",
    "svm = SVMWithSGD()"
   ]
  },
  {
   "cell_type": "code",
   "execution_count": 71,
   "metadata": {},
   "outputs": [
    {
     "data": {
      "application/vnd.jupyter.widget-view+json": {
       "model_id": "95cb927d5c494859b97f5f9f38be7505",
       "version_major": 2,
       "version_minor": 0
      },
      "text/plain": [
       "VBox()"
      ]
     },
     "metadata": {},
     "output_type": "display_data"
    },
    {
     "name": "stderr",
     "output_type": "stream",
     "text": [
      "An error was encountered:\n",
      "Invalid status code '404' from https://172.31.23.248:18888/sessions/0 with error payload: {\"msg\":\"Session '0' not found.\"}\n"
     ]
    }
   ],
   "source": [
    "# Logistic Regression\n",
    "lr = LogisticRegression(maxIter=10, regParam=0.3, elasticNetParam=0.8, family=\"multinomial\", labelCol='stars', featuresCol='features')\n",
    "lrModel = lr.fit(trainingData)\n",
    "predictions = lrModel.transform(testData)"
   ]
  }
 ],
 "metadata": {
  "kernelspec": {
   "display_name": "PySpark",
   "language": "",
   "name": "pysparkkernel"
  },
  "language_info": {
   "codemirror_mode": {
    "name": "python",
    "version": 2
   },
   "mimetype": "text/x-python",
   "name": "pyspark",
   "pygments_lexer": "python2"
  }
 },
 "nbformat": 4,
 "nbformat_minor": 2
}
